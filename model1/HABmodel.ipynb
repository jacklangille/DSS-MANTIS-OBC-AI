{
 "cells": [
  {
   "cell_type": "markdown",
   "metadata": {},
   "source": [
    "'''\n",
    "THIS FILE IS FOR TRAINING THE TREE PHENOLOGY MODEL\n",
    "CODE WRITTEN FOR CUBESAT MANTIS PROGRAM (DSS)\n",
    "AUTHOR: CHAZ DAVIES\n",
    "''' \n",
    "Unfinished Steps \n",
    "1. Create confusion matrix\n",
    "2. Switch to Anikets pre-processing code"
   ]
  },
  {
   "cell_type": "code",
   "execution_count": 47,
   "metadata": {},
   "outputs": [],
   "source": [
    "\n",
    "import tensorflow as tf\n",
    "import numpy as np\n",
    "import matplotlib as img \n",
    "import rasterio\n",
    "import os\n",
    "from rasterio.plot import show\n",
    "import json\n",
    "import keras\n",
    "import import_ipynb\n",
    "import sys\n",
    "from sklearn.model_selection import train_test_split\n"
   ]
  },
  {
   "cell_type": "code",
   "execution_count": 26,
   "metadata": {},
   "outputs": [],
   "source": [
    "sys.path.append('..')\n",
    "from preprocessing.Image_Process_Model.load_and_convert import loadDataSet, convertImages, convertImage"
   ]
  },
  {
   "cell_type": "code",
   "execution_count": 27,
   "metadata": {},
   "outputs": [],
   "source": [
    "\n",
    "path = 'C:\\\\Users\\\\chazd\\\\OneDrive\\\\Desktop\\\\git\\\\DSS\\\\DSS-MANTIS-OBC-AI\\\\Images\\\\algal-bloom\\\\Lake_torment_HAB_2016-2022_10m'\n"
   ]
  },
  {
   "cell_type": "code",
   "execution_count": 28,
   "metadata": {},
   "outputs": [],
   "source": [
    "# Make array to store label names\n",
    "\n",
    "labels = {\n",
    "        \"no-HAB-present\" : 0, # no harmful algal bloom detected in region\n",
    "        \"HAB-present\" : 1, # harmful algal bloom detected in region\n",
    "}\n"
   ]
  },
  {
   "cell_type": "code",
   "execution_count": 30,
   "metadata": {},
   "outputs": [],
   "source": [
    "tiff_paths = loadDataSet(path)\n"
   ]
  },
  {
   "cell_type": "code",
   "execution_count": 31,
   "metadata": {},
   "outputs": [
    {
     "name": "stderr",
     "output_type": "stream",
     "text": [
      "c:\\Users\\chazd\\AppData\\Local\\Programs\\Python\\Python39\\lib\\site-packages\\rasterio\\__init__.py:331: NotGeoreferencedWarning: Dataset has no geotransform, gcps, or rpcs. The identity matrix will be returned.\n",
      "  dataset = DatasetReader(path, driver=driver, sharing=sharing, **kwargs)\n"
     ]
    }
   ],
   "source": [
    "image_tensors = convertImages(tiff_paths)"
   ]
  },
  {
   "cell_type": "code",
   "execution_count": 33,
   "metadata": {},
   "outputs": [
    {
     "data": {
      "text/plain": [
       "30"
      ]
     },
     "execution_count": 33,
     "metadata": {},
     "output_type": "execute_result"
    }
   ],
   "source": [
    "len(image_tensors)"
   ]
  },
  {
   "cell_type": "code",
   "execution_count": 34,
   "metadata": {},
   "outputs": [],
   "source": [
    "image_labels = np.ones(len(image_tensors))"
   ]
  },
  {
   "cell_type": "markdown",
   "metadata": {},
   "source": [
    "## Preprocessing"
   ]
  },
  {
   "cell_type": "markdown",
   "metadata": {},
   "source": [
    "Before prepocessing the images, a quick review of the dataset"
   ]
  },
  {
   "cell_type": "code",
   "execution_count": 35,
   "metadata": {},
   "outputs": [
    {
     "name": "stdout",
     "output_type": "stream",
     "text": [
      "Dimensions:  (424, 146, 4)\n",
      "Batch Size:  30\n"
     ]
    }
   ],
   "source": [
    "print(\"Dimensions: \", image_tensors[0].shape)\n",
    "print(\"Batch Size: \", len(image_tensors))"
   ]
  },
  {
   "cell_type": "code",
   "execution_count": 36,
   "metadata": {},
   "outputs": [],
   "source": [
    "# normalize all values\n",
    "import cv2\n",
    "import numpy as np\n",
    "\n",
    "def normalize_4channel_image(image):\n",
    "    # Split the image into Red, Green, Blue, and NIR channels\n",
    "    r, g, b, nir = cv2.split(image)\n",
    "\n",
    "    # Normalize each channel\n",
    "    r_normalized = (r - np.min(r)) / (np.max(r) - np.min(r))\n",
    "    g_normalized = (g - np.min(g)) / (np.max(g) - np.min(g))\n",
    "    b_normalized = (b - np.min(b)) / (np.max(b) - np.min(b))\n",
    "    nir_normalized = (nir - np.min(nir)) / (np.max(nir) - np.min(nir))\n",
    "\n",
    "    # Recombine the channels\n",
    "    normalized_image = cv2.merge([r_normalized, g_normalized, b_normalized, nir_normalized])\n",
    "\n",
    "    return normalized_image\n",
    "\n"
   ]
  },
  {
   "cell_type": "code",
   "execution_count": 37,
   "metadata": {},
   "outputs": [],
   "source": [
    "normalized= image_tensors\n",
    "\n",
    "for i in range(len(image_tensors)):\n",
    "    \n",
    "    normalized[i] = normalize_4channel_image(image_tensors[i])\n",
    "    \n"
   ]
  },
  {
   "cell_type": "code",
   "execution_count": 40,
   "metadata": {},
   "outputs": [
    {
     "ename": "TypeError",
     "evalue": "only integer scalar arrays can be converted to a scalar index",
     "output_type": "error",
     "traceback": [
      "\u001b[1;31m---------------------------------------------------------------------------\u001b[0m",
      "\u001b[1;31mTypeError\u001b[0m                                 Traceback (most recent call last)",
      "Cell \u001b[1;32mIn[40], line 4\u001b[0m\n\u001b[0;32m      1\u001b[0m \u001b[38;5;66;03m#split into test and train to 80:20\u001b[39;00m\n\u001b[0;32m      2\u001b[0m split \u001b[38;5;241m=\u001b[39m np\u001b[38;5;241m.\u001b[39mrandom\u001b[38;5;241m.\u001b[39mrandint(\u001b[38;5;241m0\u001b[39m,\u001b[38;5;28mlen\u001b[39m(normalized), size \u001b[38;5;241m=\u001b[39m \u001b[38;5;28mint\u001b[39m(\u001b[38;5;28mlen\u001b[39m(normalized)\u001b[38;5;241m*\u001b[39m\u001b[38;5;241m0.8\u001b[39m))\n\u001b[1;32m----> 4\u001b[0m train_images \u001b[38;5;241m=\u001b[39m \u001b[43mnormalized\u001b[49m\u001b[43m[\u001b[49m\u001b[43msplit\u001b[49m\u001b[43m]\u001b[49m\n",
      "\u001b[1;31mTypeError\u001b[0m: only integer scalar arrays can be converted to a scalar index"
     ]
    }
   ],
   "source": [
    "#split into test and train to 80:20\n",
    "split = np.random.randint(0,len(normalized), size = int(len(normalized)*0.8))\n",
    "\n",
    "train_images = normalized[split]\n",
    "train_labels = image_labels[split]\n",
    "test_images = normalized[-split]\n",
    "test_labels = image_labels[-split]"
   ]
  },
  {
   "cell_type": "code",
   "execution_count": 48,
   "metadata": {},
   "outputs": [],
   "source": [
    "# Split the data into train and test sets\n",
    "train_images, test_images, train_labels, test_labels = train_test_split(\n",
    "    normalized, image_labels, test_size=0.2, random_state=42\n",
    ")"
   ]
  },
  {
   "cell_type": "markdown",
   "metadata": {},
   "source": [
    "## Building Model"
   ]
  },
  {
   "cell_type": "code",
   "execution_count": 50,
   "metadata": {},
   "outputs": [],
   "source": [
    "from tensorflow.keras import datasets, layers, models"
   ]
  },
  {
   "cell_type": "code",
   "execution_count": 52,
   "metadata": {},
   "outputs": [
    {
     "name": "stdout",
     "output_type": "stream",
     "text": [
      "WARNING:tensorflow:From c:\\Users\\chazd\\AppData\\Local\\Programs\\Python\\Python39\\lib\\site-packages\\keras\\src\\layers\\pooling\\max_pooling2d.py:161: The name tf.nn.max_pool is deprecated. Please use tf.nn.max_pool2d instead.\n",
      "\n",
      "Model: \"sequential\"\n",
      "_________________________________________________________________\n",
      " Layer (type)                Output Shape              Param #   \n",
      "=================================================================\n",
      " conv2d_1 (Conv2D)           (None, 158, 173, 16)      592       \n",
      "                                                                 \n",
      " max_pooling2d (MaxPooling2  (None, 79, 86, 16)        0         \n",
      " D)                                                              \n",
      "                                                                 \n",
      " conv2d_2 (Conv2D)           (None, 77, 84, 32)        4640      \n",
      "                                                                 \n",
      " max_pooling2d_1 (MaxPoolin  (None, 38, 42, 32)        0         \n",
      " g2D)                                                            \n",
      "                                                                 \n",
      " conv2d_3 (Conv2D)           (None, 36, 40, 16)        4624      \n",
      "                                                                 \n",
      " max_pooling2d_2 (MaxPoolin  (None, 18, 20, 16)        0         \n",
      " g2D)                                                            \n",
      "                                                                 \n",
      " flatten (Flatten)           (None, 5760)              0         \n",
      "                                                                 \n",
      " dense (Dense)               (None, 16)                92176     \n",
      "                                                                 \n",
      " dense_1 (Dense)             (None, 2)                 34        \n",
      "                                                                 \n",
      "=================================================================\n",
      "Total params: 102066 (398.70 KB)\n",
      "Trainable params: 102066 (398.70 KB)\n",
      "Non-trainable params: 0 (0.00 Byte)\n",
      "_________________________________________________________________\n"
     ]
    }
   ],
   "source": [
    "model = models.Sequential()\n",
    "\n",
    "model.add(layers.Conv2D(16,(3,3),1,activation= 'softmax', input_shape=(160,175,4))),\n",
    "model.add(layers.MaxPooling2D()),\n",
    "\n",
    "model.add(layers.Conv2D(32,(3,3),1, activation= 'softmax')),\n",
    "model.add(layers.MaxPooling2D()),\n",
    "\n",
    "model.add(layers.Conv2D(16,(3,3),1, activation= 'softmax')),\n",
    "model.add(layers.MaxPooling2D()),\n",
    "\n",
    "# ry softmax\n",
    "\n",
    "model.add(layers.Flatten()),\n",
    "model.add(layers.Dense(16, activation='softmax')),\n",
    "model.add(layers.Dense(1, activation='sigmoid')) \n",
    "\n",
    "\n",
    "model.summary()"
   ]
  },
  {
   "cell_type": "code",
   "execution_count": 54,
   "metadata": {},
   "outputs": [],
   "source": [
    "#compile\n",
    "model.compile(optimizer='adam',\n",
    "              loss=tf.keras.losses.CategoricalCrossentropy(from_logits=True),\n",
    "              metrics=['accuracy', 'precision', 'recall', 'F1Score', 'AUC '])\n"
   ]
  },
  {
   "cell_type": "markdown",
   "metadata": {},
   "source": [
    "## Train Model"
   ]
  },
  {
   "cell_type": "code",
   "execution_count": 23,
   "metadata": {},
   "outputs": [
    {
     "name": "stdout",
     "output_type": "stream",
     "text": [
      "Epoch 1/10\n"
     ]
    },
    {
     "name": "stderr",
     "output_type": "stream",
     "text": [
      "c:\\Users\\chazd\\AppData\\Local\\Programs\\Python\\Python39\\lib\\site-packages\\keras\\src\\backend.py:5727: UserWarning: \"`sparse_categorical_crossentropy` received `from_logits=True`, but the `output` argument was produced by a Softmax activation and thus does not represent logits. Was this intended?\n",
      "  output, from_logits = _get_logits(\n"
     ]
    },
    {
     "name": "stdout",
     "output_type": "stream",
     "text": [
      "2/2 [==============================] - 5s 1s/step - loss: 1.5231 - accuracy: 0.2034 - val_loss: 1.4345 - val_accuracy: 0.1525\n",
      "Epoch 2/10\n",
      "2/2 [==============================] - 1s 310ms/step - loss: 1.3100 - accuracy: 0.5424 - val_loss: 1.2552 - val_accuracy: 0.6102\n",
      "Epoch 3/10\n",
      "2/2 [==============================] - 0s 271ms/step - loss: 1.2550 - accuracy: 0.5424 - val_loss: 1.1626 - val_accuracy: 0.6102\n",
      "Epoch 4/10\n",
      "2/2 [==============================] - 0s 275ms/step - loss: 1.2007 - accuracy: 0.5424 - val_loss: 1.1490 - val_accuracy: 0.6102\n",
      "Epoch 5/10\n",
      "2/2 [==============================] - 0s 292ms/step - loss: 1.1278 - accuracy: 0.5424 - val_loss: 1.0990 - val_accuracy: 0.6102\n",
      "Epoch 6/10\n",
      "2/2 [==============================] - 0s 271ms/step - loss: 1.0620 - accuracy: 0.5424 - val_loss: 1.0531 - val_accuracy: 0.6102\n",
      "Epoch 7/10\n",
      "2/2 [==============================] - 0s 274ms/step - loss: 1.0067 - accuracy: 0.5424 - val_loss: 0.9739 - val_accuracy: 0.6102\n",
      "Epoch 8/10\n",
      "2/2 [==============================] - 0s 267ms/step - loss: 0.9617 - accuracy: 0.5424 - val_loss: 0.9283 - val_accuracy: 0.6102\n",
      "Epoch 9/10\n",
      "2/2 [==============================] - 0s 260ms/step - loss: 0.9124 - accuracy: 0.5424 - val_loss: 0.8935 - val_accuracy: 0.6102\n",
      "Epoch 10/10\n",
      "2/2 [==============================] - 0s 261ms/step - loss: 0.8948 - accuracy: 0.5424 - val_loss: 0.8584 - val_accuracy: 0.6780\n"
     ]
    }
   ],
   "source": [
    "history = model.fit(train_images, train_labels, epochs=10, \n",
    "                    validation_data=(test_images, test_labels))"
   ]
  },
  {
   "cell_type": "markdown",
   "metadata": {},
   "source": [
    "## Model Evaluation"
   ]
  },
  {
   "cell_type": "code",
   "execution_count": 24,
   "metadata": {},
   "outputs": [
    {
     "name": "stdout",
     "output_type": "stream",
     "text": [
      "2/2 - 0s - loss: 0.8584 - accuracy: 0.6780 - 113ms/epoch - 57ms/step\n"
     ]
    }
   ],
   "source": [
    "import matplotlib.pyplot as plt\n",
    "\n",
    "test_loss, test_acc = model.evaluate(test_images,  test_labels, verbose=2)\n"
   ]
  },
  {
   "cell_type": "code",
   "execution_count": 25,
   "metadata": {},
   "outputs": [
    {
     "name": "stdout",
     "output_type": "stream",
     "text": [
      "Accuracy =  67.79661178588867 %\n"
     ]
    }
   ],
   "source": [
    "print(\"Accuracy = \", test_acc*100, \"%\")"
   ]
  },
  {
   "cell_type": "code",
   "execution_count": null,
   "metadata": {},
   "outputs": [],
   "source": []
  }
 ],
 "metadata": {
  "kernelspec": {
   "display_name": "Python 3",
   "language": "python",
   "name": "python3"
  },
  "language_info": {
   "codemirror_mode": {
    "name": "ipython",
    "version": 3
   },
   "file_extension": ".py",
   "mimetype": "text/x-python",
   "name": "python",
   "nbconvert_exporter": "python",
   "pygments_lexer": "ipython3",
   "version": "3.9.7"
  }
 },
 "nbformat": 4,
 "nbformat_minor": 2
}
