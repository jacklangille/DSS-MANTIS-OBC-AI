{
 "cells": [
  {
   "cell_type": "markdown",
   "metadata": {},
   "source": [
    "'''\n",
    "THIS FILE IS FOR TRAINING THE TREE PHENOLOGY MODEL\n",
    "CODE WRITTEN FOR CUBESAT MANTIS PROGRAM (DSS)\n",
    "AUTHOR: CHAZ DAVIES\n",
    "''' \n"
   ]
  },
  {
   "cell_type": "code",
   "execution_count": 3,
   "metadata": {},
   "outputs": [
    {
     "name": "stdout",
     "output_type": "stream",
     "text": [
      "WARNING:tensorflow:From c:\\Users\\chazd\\AppData\\Local\\Programs\\Python\\Python39\\lib\\site-packages\\keras\\src\\losses.py:2976: The name tf.losses.sparse_softmax_cross_entropy is deprecated. Please use tf.compat.v1.losses.sparse_softmax_cross_entropy instead.\n",
      "\n"
     ]
    },
    {
     "ename": "ModuleNotFoundError",
     "evalue": "No module named 'image_process'",
     "output_type": "error",
     "traceback": [
      "\u001b[1;31m---------------------------------------------------------------------------\u001b[0m",
      "\u001b[1;31mModuleNotFoundError\u001b[0m                       Traceback (most recent call last)",
      "Cell \u001b[1;32mIn[3], line 6\u001b[0m\n\u001b[0;32m      4\u001b[0m \u001b[38;5;28;01mimport\u001b[39;00m \u001b[38;5;21;01mrasterio\u001b[39;00m\n\u001b[0;32m      5\u001b[0m \u001b[38;5;28;01mimport\u001b[39;00m \u001b[38;5;21;01mos\u001b[39;00m\n\u001b[1;32m----> 6\u001b[0m \u001b[38;5;28;01mimport\u001b[39;00m \u001b[38;5;21;01mimage_process\u001b[39;00m \u001b[38;5;28;01mas\u001b[39;00m \u001b[38;5;21;01mip\u001b[39;00m\n\u001b[0;32m      7\u001b[0m \u001b[38;5;28;01mfrom\u001b[39;00m \u001b[38;5;21;01mrasterio\u001b[39;00m\u001b[38;5;21;01m.\u001b[39;00m\u001b[38;5;21;01mplot\u001b[39;00m \u001b[38;5;28;01mimport\u001b[39;00m show\n\u001b[0;32m      8\u001b[0m \u001b[38;5;28;01mimport\u001b[39;00m \u001b[38;5;21;01mjson\u001b[39;00m\n",
      "\u001b[1;31mModuleNotFoundError\u001b[0m: No module named 'image_process'"
     ]
    }
   ],
   "source": [
    "\n",
    "import tensorflow as tf\n",
    "import numpy as np\n",
    "import matplotlib as img \n",
    "import rasterio\n",
    "import os\n",
    "import image_process as ip\n",
    "from rasterio.plot import show\n",
    "import json\n",
    "import keras\n"
   ]
  },
  {
   "cell_type": "code",
   "execution_count": null,
   "metadata": {},
   "outputs": [],
   "source": [
    "\n",
    "path = 'C:\\\\Users\\\\chazd\\\\OneDrive\\\\Desktop\\\\git\\\\DSS\\\\DSS-MANTIS-OBC-AI\\\\Images\\\\algal-bloom'"
   ]
  },
  {
   "cell_type": "code",
   "execution_count": null,
   "metadata": {},
   "outputs": [],
   "source": [
    "## set constants\n",
    "# might change during training process\n",
    "image_height = 160\n",
    "image_width = 175\n",
    "bands = 4\n"
   ]
  },
  {
   "cell_type": "code",
   "execution_count": null,
   "metadata": {},
   "outputs": [
    {
     "data": {
      "text/plain": [
       "{'discard': 0, 'HAB-present': 1, 'no-HAB-present': 2}"
      ]
     },
     "execution_count": 1,
     "metadata": {},
     "output_type": "execute_result"
    }
   ],
   "source": [
    "# Make array to store label names\n",
    "\n",
    "labels = {\n",
    "        \"discard\" : 0, # image not relevant\n",
    "        \"HAB-present\" : 1, # harmful algal bloom detected in region\n",
    "        \"no-HAB-present\" : 2, # no harmful algal bloom detected in region\n",
    "    }\n",
    "\n",
    "\n",
    "labels"
   ]
  },
  {
   "cell_type": "code",
   "execution_count": 2,
   "metadata": {},
   "outputs": [
    {
     "ename": "NameError",
     "evalue": "name 'ip' is not defined",
     "output_type": "error",
     "traceback": [
      "\u001b[1;31m---------------------------------------------------------------------------\u001b[0m",
      "\u001b[1;31mNameError\u001b[0m                                 Traceback (most recent call last)",
      "Cell \u001b[1;32mIn[2], line 2\u001b[0m\n\u001b[0;32m      1\u001b[0m \u001b[38;5;66;03m# copy the path\u001b[39;00m\n\u001b[1;32m----> 2\u001b[0m tiff_files \u001b[38;5;241m=\u001b[39m \u001b[43mip\u001b[49m\u001b[38;5;241m.\u001b[39mloadDataSet(path)\n\u001b[0;32m      3\u001b[0m file_path \u001b[38;5;241m=\u001b[39m [\u001b[38;5;124m\"\u001b[39m\u001b[38;5;124m\"\u001b[39m \u001b[38;5;28;01mfor\u001b[39;00m x \u001b[38;5;129;01min\u001b[39;00m \u001b[38;5;28mrange\u001b[39m(\u001b[38;5;28mlen\u001b[39m(tiff_files))]\n\u001b[0;32m      5\u001b[0m \u001b[38;5;66;03m# concactinate the folder path to the file name\u001b[39;00m\n",
      "\u001b[1;31mNameError\u001b[0m: name 'ip' is not defined"
     ]
    }
   ],
   "source": [
    "# copy the path\n",
    "tiff_files = ip.loadDataSet(path)\n",
    "file_path = [\"\" for x in range(len(tiff_files))]\n",
    "\n",
    "# concactinate the folder path to the file name\n",
    "for i in range(len(tiff_files)):\n",
    "    file_path[i] = os.path.join(path, tiff_files[i])\n"
   ]
  },
  {
   "cell_type": "code",
   "execution_count": 6,
   "metadata": {},
   "outputs": [],
   "source": [
    "#extract dates\n",
    "dates = [\"\" for x in range(len(file_path))]\n",
    "for i, file in enumerate(file_path):\n",
    "    dates[i] = file[len(file)-15:len(file)-5]\n",
    "\n"
   ]
  },
  {
   "cell_type": "code",
   "execution_count": 7,
   "metadata": {},
   "outputs": [
    {
     "name": "stderr",
     "output_type": "stream",
     "text": [
      "c:\\Users\\chazd\\AppData\\Local\\Programs\\Python\\Python39\\lib\\site-packages\\rasterio\\__init__.py:331: NotGeoreferencedWarning: Dataset has no geotransform, gcps, or rpcs. The identity matrix will be returned.\n",
      "  dataset = DatasetReader(path, driver=driver, sharing=sharing, **kwargs)\n"
     ]
    }
   ],
   "source": [
    "raster_imgs = np.empty(len(file_path)) \n",
    "\n",
    "#open each file\n",
    "img = rasterio.open(file_path[1])\n",
    "\n",
    "    \n"
   ]
  },
  {
   "cell_type": "code",
   "execution_count": 8,
   "metadata": {},
   "outputs": [],
   "source": [
    "# Open images and move them to a numpy array\n",
    "batch = len(file_path)\n",
    "# set dimension of 3d-array to image height, width and number of bands\n",
    "# ---- maybe add a dimension for labels\n",
    "\n",
    "unlabeled_images = np.zeros((batch, image_height, image_width, bands))\n",
    "\n",
    "for i in range(batch):\n",
    "    #open raster image\n",
    "    img = rasterio.open(file_path[i])\n",
    "\n",
    "    for j in range(bands):\n",
    "        unlabeled_images[i,:,:,j] = img.read(j+1)\n",
    "\n"
   ]
  },
  {
   "cell_type": "code",
   "execution_count": 9,
   "metadata": {},
   "outputs": [],
   "source": [
    "# Load JSON file with image file names and their corresponding labels\n",
    "with open('C:\\\\Users\\\\chazd\\\\OneDrive\\\\Desktop\\\\git\\\\DSS\\\\DSS-MANTIS-OBC-AI\\\\Images\\\\trees_feb2020-Dec2021_10m_labels.json') as json_file:\n",
    "    data = json.load(json_file)\n",
    "\n",
    "# Extract filenames and annotations\n",
    "file_names = [item[\"filename\"] for item in data]\n",
    "annotations_from_json = [item[\"annotations\"] for item in data]\n",
    "\n",
    "# Map annotations from JSON to numerical labels using the label dictionary\n",
    "numerical_labels = np.array([labels[annotation] for annotation in annotations_from_json])\n"
   ]
  },
  {
   "cell_type": "markdown",
   "metadata": {},
   "source": [
    "## Preprocessing"
   ]
  },
  {
   "cell_type": "markdown",
   "metadata": {},
   "source": [
    "Before prepocessing the images, a quick review of the dataset"
   ]
  },
  {
   "cell_type": "code",
   "execution_count": 10,
   "metadata": {},
   "outputs": [
    {
     "name": "stdout",
     "output_type": "stream",
     "text": [
      "Dimensions:  (66, 160, 175, 4)\n",
      "Batch Size:  66\n"
     ]
    }
   ],
   "source": [
    "print(\"Dimensions: \", unlabeled_images.shape)\n",
    "print(\"Batch Size: \", len(unlabeled_images))"
   ]
  },
  {
   "cell_type": "code",
   "execution_count": 11,
   "metadata": {},
   "outputs": [],
   "source": [
    "# normalize all values\n",
    "import cv2\n",
    "import numpy as np\n",
    "\n",
    "def normalize_4channel_image(image):\n",
    "    # Split the image into Red, Green, Blue, and NIR channels\n",
    "    r, g, b, nir = cv2.split(image)\n",
    "\n",
    "    # Normalize each channel\n",
    "    r_normalized = (r - np.min(r)) / (np.max(r) - np.min(r))\n",
    "    g_normalized = (g - np.min(g)) / (np.max(g) - np.min(g))\n",
    "    b_normalized = (b - np.min(b)) / (np.max(b) - np.min(b))\n",
    "    nir_normalized = (nir - np.min(nir)) / (np.max(nir) - np.min(nir))\n",
    "\n",
    "    # Recombine the channels\n",
    "    normalized_image = cv2.merge([r_normalized, g_normalized, b_normalized, nir_normalized])\n",
    "\n",
    "    return normalized_image\n",
    "\n"
   ]
  },
  {
   "cell_type": "code",
   "execution_count": 12,
   "metadata": {},
   "outputs": [],
   "source": [
    "normalized= unlabeled_images\n",
    "\n",
    "for i in range(len(unlabeled_images)):\n",
    "    \n",
    "    normalized[i] = normalize_4channel_image(unlabeled_images[i])\n",
    "    \n"
   ]
  },
  {
   "cell_type": "code",
   "execution_count": 13,
   "metadata": {},
   "outputs": [],
   "source": [
    "#split into test and train\n",
    "split = np.random.randint(0,len(normalized), size = int(len(normalized)*0.9))\n",
    "\n",
    "train_images = normalized[split]\n",
    "train_labels = numerical_labels[split]\n",
    "test_images = normalized[-split]\n",
    "test_labels = numerical_labels[-split]\n"
   ]
  },
  {
   "cell_type": "markdown",
   "metadata": {},
   "source": [
    "## Building Model"
   ]
  },
  {
   "cell_type": "code",
   "execution_count": 14,
   "metadata": {},
   "outputs": [],
   "source": [
    "from tensorflow.keras import datasets, layers, models"
   ]
  },
  {
   "cell_type": "code",
   "execution_count": 21,
   "metadata": {},
   "outputs": [
    {
     "name": "stdout",
     "output_type": "stream",
     "text": [
      "Model: \"sequential_2\"\n",
      "_________________________________________________________________\n",
      " Layer (type)                Output Shape              Param #   \n",
      "=================================================================\n",
      " conv2d_6 (Conv2D)           (None, 158, 173, 16)      592       \n",
      "                                                                 \n",
      " max_pooling2d_6 (MaxPoolin  (None, 79, 86, 16)        0         \n",
      " g2D)                                                            \n",
      "                                                                 \n",
      " conv2d_7 (Conv2D)           (None, 77, 84, 32)        4640      \n",
      "                                                                 \n",
      " max_pooling2d_7 (MaxPoolin  (None, 38, 42, 32)        0         \n",
      " g2D)                                                            \n",
      "                                                                 \n",
      " conv2d_8 (Conv2D)           (None, 36, 40, 16)        4624      \n",
      "                                                                 \n",
      " max_pooling2d_8 (MaxPoolin  (None, 18, 20, 16)        0         \n",
      " g2D)                                                            \n",
      "                                                                 \n",
      " flatten_2 (Flatten)         (None, 5760)              0         \n",
      "                                                                 \n",
      " dense_4 (Dense)             (None, 16)                92176     \n",
      "                                                                 \n",
      " dense_5 (Dense)             (None, 5)                 85        \n",
      "                                                                 \n",
      "=================================================================\n",
      "Total params: 102117 (398.89 KB)\n",
      "Trainable params: 102117 (398.89 KB)\n",
      "Non-trainable params: 0 (0.00 Byte)\n",
      "_________________________________________________________________\n"
     ]
    }
   ],
   "source": [
    "model = models.Sequential()\n",
    "\n",
    "model.add(layers.Conv2D(16,(3,3),1,activation= 'relu', input_shape=(160,175,4)))\n",
    "model.add(layers.MaxPooling2D())\n",
    "\n",
    "model.add(layers.Conv2D(32,(3,3),1, activation= 'relu'))\n",
    "model.add(layers.MaxPooling2D())\n",
    "\n",
    "model.add(layers.Conv2D(16,(3,3),1, activation= 'relu'))\n",
    "model.add(layers.MaxPooling2D())\n",
    "\n",
    "# ry softmax\n",
    "\n",
    "model.add(layers.Flatten())\n",
    "model.add(layers.Dense(16, activation='relu'))\n",
    "model.add(layers.Dense(5, activation='softmax')) \n",
    "\n",
    "model.summary()"
   ]
  },
  {
   "cell_type": "code",
   "execution_count": 22,
   "metadata": {},
   "outputs": [],
   "source": [
    "#compile\n",
    "model.compile(optimizer='adam',\n",
    "              loss=tf.keras.losses.SparseCategoricalCrossentropy(from_logits=True),\n",
    "              metrics=['accuracy'])\n",
    "\n"
   ]
  },
  {
   "cell_type": "markdown",
   "metadata": {},
   "source": [
    "## Train Model"
   ]
  },
  {
   "cell_type": "code",
   "execution_count": 23,
   "metadata": {},
   "outputs": [
    {
     "name": "stdout",
     "output_type": "stream",
     "text": [
      "Epoch 1/10\n"
     ]
    },
    {
     "name": "stderr",
     "output_type": "stream",
     "text": [
      "c:\\Users\\chazd\\AppData\\Local\\Programs\\Python\\Python39\\lib\\site-packages\\keras\\src\\backend.py:5727: UserWarning: \"`sparse_categorical_crossentropy` received `from_logits=True`, but the `output` argument was produced by a Softmax activation and thus does not represent logits. Was this intended?\n",
      "  output, from_logits = _get_logits(\n"
     ]
    },
    {
     "name": "stdout",
     "output_type": "stream",
     "text": [
      "2/2 [==============================] - 5s 1s/step - loss: 1.5231 - accuracy: 0.2034 - val_loss: 1.4345 - val_accuracy: 0.1525\n",
      "Epoch 2/10\n",
      "2/2 [==============================] - 1s 310ms/step - loss: 1.3100 - accuracy: 0.5424 - val_loss: 1.2552 - val_accuracy: 0.6102\n",
      "Epoch 3/10\n",
      "2/2 [==============================] - 0s 271ms/step - loss: 1.2550 - accuracy: 0.5424 - val_loss: 1.1626 - val_accuracy: 0.6102\n",
      "Epoch 4/10\n",
      "2/2 [==============================] - 0s 275ms/step - loss: 1.2007 - accuracy: 0.5424 - val_loss: 1.1490 - val_accuracy: 0.6102\n",
      "Epoch 5/10\n",
      "2/2 [==============================] - 0s 292ms/step - loss: 1.1278 - accuracy: 0.5424 - val_loss: 1.0990 - val_accuracy: 0.6102\n",
      "Epoch 6/10\n",
      "2/2 [==============================] - 0s 271ms/step - loss: 1.0620 - accuracy: 0.5424 - val_loss: 1.0531 - val_accuracy: 0.6102\n",
      "Epoch 7/10\n",
      "2/2 [==============================] - 0s 274ms/step - loss: 1.0067 - accuracy: 0.5424 - val_loss: 0.9739 - val_accuracy: 0.6102\n",
      "Epoch 8/10\n",
      "2/2 [==============================] - 0s 267ms/step - loss: 0.9617 - accuracy: 0.5424 - val_loss: 0.9283 - val_accuracy: 0.6102\n",
      "Epoch 9/10\n",
      "2/2 [==============================] - 0s 260ms/step - loss: 0.9124 - accuracy: 0.5424 - val_loss: 0.8935 - val_accuracy: 0.6102\n",
      "Epoch 10/10\n",
      "2/2 [==============================] - 0s 261ms/step - loss: 0.8948 - accuracy: 0.5424 - val_loss: 0.8584 - val_accuracy: 0.6780\n"
     ]
    }
   ],
   "source": [
    "history = model.fit(train_images, train_labels, epochs=10, \n",
    "                    validation_data=(test_images, test_labels))"
   ]
  },
  {
   "cell_type": "markdown",
   "metadata": {},
   "source": [
    "## Model Evaluation"
   ]
  },
  {
   "cell_type": "code",
   "execution_count": 24,
   "metadata": {},
   "outputs": [
    {
     "name": "stdout",
     "output_type": "stream",
     "text": [
      "2/2 - 0s - loss: 0.8584 - accuracy: 0.6780 - 113ms/epoch - 57ms/step\n"
     ]
    }
   ],
   "source": [
    "import matplotlib.pyplot as plt\n",
    "\n",
    "# plt.plot(history.history['accuracy'], label='accuracy')\n",
    "# plt.plot(history.history['val_accuracy'], label = 'val_accuracy')\n",
    "# plt.xlabel('Epoch')\n",
    "# plt.ylabel('Accuracy')\n",
    "# plt.ylim([0.5, 1])\n",
    "# plt.legend(loc='lower right')\n",
    "\n",
    "test_loss, test_acc = model.evaluate(test_images,  test_labels, verbose=2)\n"
   ]
  },
  {
   "cell_type": "code",
   "execution_count": 25,
   "metadata": {},
   "outputs": [
    {
     "name": "stdout",
     "output_type": "stream",
     "text": [
      "Accuracy =  67.79661178588867 %\n"
     ]
    }
   ],
   "source": [
    "print(\"Accuracy = \", test_acc*100, \"%\")"
   ]
  },
  {
   "cell_type": "code",
   "execution_count": null,
   "metadata": {},
   "outputs": [],
   "source": []
  }
 ],
 "metadata": {
  "kernelspec": {
   "display_name": "Python 3",
   "language": "python",
   "name": "python3"
  },
  "language_info": {
   "codemirror_mode": {
    "name": "ipython",
    "version": 3
   },
   "file_extension": ".py",
   "mimetype": "text/x-python",
   "name": "python",
   "nbconvert_exporter": "python",
   "pygments_lexer": "ipython3",
   "version": "3.9.7"
  }
 },
 "nbformat": 4,
 "nbformat_minor": 2
}
