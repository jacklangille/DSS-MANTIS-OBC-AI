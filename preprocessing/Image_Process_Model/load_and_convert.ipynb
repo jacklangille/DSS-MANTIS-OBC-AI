{
 "cells": [
  {
   "cell_type": "code",
   "execution_count": 11,
   "metadata": {},
   "outputs": [],
   "source": [
    "# Load and Convert Raster Files Code\n",
    "# Section 1: Imports\n",
    "\n",
    "import numpy as np\n",
    "import rasterio\n",
    "import os\n",
    "import matplotlib\n",
    "import matplotlib.pyplot as plt\n"
   ]
  },
  {
   "cell_type": "code",
   "execution_count": 4,
   "metadata": {},
   "outputs": [],
   "source": [
    "\n",
    "# Section 2: Function Definition - loadDataSet\n",
    "\n",
    "def loadDataSet(folder_path):\n",
    "    '''\n",
    "    Loads all the .tiff files into an array.\n",
    "\n",
    "    Parameters:\n",
    "        folder_path: a path to the .tiff file (Raster images)\n",
    "\n",
    "    Returns:\n",
    "        An array of raster images\n",
    "    '''\n",
    "    # List all files in the folder\n",
    "    files = os.listdir(folder_path)\n",
    "\n",
    "    # Filter files with a .tiff or .tif extension\n",
    "    tiff_files = [file for file in files if file.lower().endswith('.tiff') or file.lower().endswith('.tif')]\n",
    "\n",
    "    # Construct the full paths to the TIFF files\n",
    "    tiff_paths = [os.path.join(folder_path, tiff_file) for tiff_file in tiff_files]\n",
    "\n",
    "    return tiff_paths"
   ]
  },
  {
   "cell_type": "code",
   "execution_count": 6,
   "metadata": {},
   "outputs": [],
   "source": [
    "# Section 3: Function Definition - convertImage\n",
    "\n",
    "def convertImage(rasterImage):\n",
    "    '''\n",
    "    Converts a raster image to a tensor with 4 bands(RGB-NIR) of dimensions rasterImage.Height x rasterImage.width\n",
    "\n",
    "    Parameters:\n",
    "        rasterImage: \n",
    "\n",
    "    Returns:\n",
    "        A tensor\n",
    "    '''\n",
    "    imgArray = np.zeros((rasterImage.height, rasterImage.width, rasterImage.count))\n",
    "\n",
    "    # Fill the array with RGBNIR values\n",
    "    for i in range(4):\n",
    "        imgArray[:, :, i] = rasterImage.read(i + 1)\n",
    "\n",
    "    return imgArray"
   ]
  },
  {
   "cell_type": "code",
   "execution_count": 7,
   "metadata": {},
   "outputs": [],
   "source": [
    "# Section 4: Function Definition - convertImages\n",
    "\n",
    "def convertImages(rasterPaths):\n",
    "    '''\n",
    "    Convert an array of raster images numpy array of tensors\n",
    "\n",
    "    Parameters:\n",
    "        rasterPaths\n",
    "\n",
    "    Returns:\n",
    "        An array of tensors\n",
    "    '''\n",
    "    images = []\n",
    "\n",
    "    for path in rasterPaths:\n",
    "        rasterImage = rasterio.open(path)\n",
    "        images.append(convertImage(rasterImage))\n",
    "\n",
    "    return images"
   ]
  },
  {
   "cell_type": "code",
   "execution_count": 8,
   "metadata": {},
   "outputs": [
    {
     "name": "stderr",
     "output_type": "stream",
     "text": [
      "c:\\Users\\conta\\AppData\\Local\\Programs\\Python\\Python310\\lib\\site-packages\\rasterio\\__init__.py:317: NotGeoreferencedWarning: Dataset has no geotransform, gcps, or rpcs. The identity matrix will be returned.\n",
      "  dataset = DatasetReader(path, driver=driver, sharing=sharing, **kwargs)\n"
     ]
    }
   ],
   "source": [
    "# Section 5: Example Usage\n",
    "\n",
    "# Path to your TIFF files folder\n",
    "folder_path = 'C:/DSS/DSS FOLDER 1 11TH NOV/DSS-MANTIS-OBC-AI/Images/tree-phen/trees_feb2020-Dec2021_10m'\n",
    "\n",
    "# Load TIFF paths\n",
    "tiff_paths = loadDataSet(folder_path)\n",
    "\n",
    "# Convert TIFFs to NumPy arrays\n",
    "image_tensors = convertImages(tiff_paths)"
   ]
  },
  {
   "cell_type": "code",
   "execution_count": 12,
   "metadata": {},
   "outputs": [
    {
     "name": "stderr",
     "output_type": "stream",
     "text": [
      "Clipping input data to the valid range for imshow with RGB data ([0..1] for floats or [0..255] for integers).\n"
     ]
    },
    {
     "data": {
      "image/png": "[encoded data removed]",
      "text/plain": [
       "<Figure size 640x480 with 1 Axes>"
      ]
     },
     "metadata": {},
     "output_type": "display_data"
    }
   ],
   "source": [
    "# Section 6: Displaying Loaded Images (Optional)\n",
    "\n",
    "# Optional: Display the loaded images\n",
    "import matplotlib.pyplot as plt\n",
    "\n",
    "# Plot the first image\n",
    "plt.imshow(image_tensors[0])\n",
    "plt.title('First Loaded Image')\n",
    "plt.show()"
   ]
  }
 ],
 "metadata": {
  "kernelspec": {
   "display_name": "Python 3",
   "language": "python",
   "name": "python3"
  },
  "language_info": {
   "codemirror_mode": {
    "name": "ipython",
    "version": 3
   },
   "file_extension": ".py",
   "mimetype": "text/x-python",
   "name": "python",
   "nbconvert_exporter": "python",
   "pygments_lexer": "ipython3",
   "version": "3.10.11"
  }
 },
 "nbformat": 4,
 "nbformat_minor": 2
}
