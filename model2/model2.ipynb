{
 "cells": [
  {
   "cell_type": "markdown",
   "metadata": {},
   "source": [
    "'''\n",
    "THIS FILE IS FOR TRAINING THE TREE PHENOLOGY MODEL\n",
    "CODE WRITTEN FOR CUBESAT MANTIS PROGRAM (DSS)\n",
    "AUTHOR: CHAZ DAVIES\n",
    "''' \n"
   ]
  },
  {
   "cell_type": "code",
   "execution_count": 1,
   "metadata": {},
   "outputs": [
    {
     "name": "stdout",
     "output_type": "stream",
     "text": [
      "WARNING:tensorflow:From c:\\Users\\chazd\\AppData\\Local\\Programs\\Python\\Python39\\lib\\site-packages\\keras\\src\\losses.py:2976: The name tf.losses.sparse_softmax_cross_entropy is deprecated. Please use tf.compat.v1.losses.sparse_softmax_cross_entropy instead.\n",
      "\n"
     ]
    }
   ],
   "source": [
    "\n",
    "import tensorflow as tf\n",
    "import numpy as np\n",
    "import matplotlib as img \n",
    "import rasterio\n",
    "import os\n",
    "import image_process as ip\n",
    "from rasterio.plot import show\n",
    "import json\n",
    "import keras\n"
   ]
  },
  {
   "cell_type": "code",
   "execution_count": 2,
   "metadata": {},
   "outputs": [],
   "source": [
    "\n",
    "path = 'C:\\\\Users\\\\chazd\\\\OneDrive\\Desktop\\\\git\\DSS\\DSS-MANTIS-OBC-AI\\\\Images\\\\tree-phen\\\\trees_feb2020-Dec2021_10m'"
   ]
  },
  {
   "cell_type": "code",
   "execution_count": 3,
   "metadata": {},
   "outputs": [],
   "source": [
    "## set constants\n",
    "# might change during training process\n",
    "image_height = 160\n",
    "image_width = 175\n",
    "bands = 4\n"
   ]
  },
  {
   "cell_type": "code",
   "execution_count": 4,
   "metadata": {},
   "outputs": [
    {
     "data": {
      "text/plain": [
       "{'evergreen-coverage': 0,\n",
       " 'light-canopy': 1,\n",
       " 'dense-canopy': 2,\n",
       " 'start-of-senescence': 3,\n",
       " 'senescence': 4}"
      ]
     },
     "execution_count": 4,
     "metadata": {},
     "output_type": "execute_result"
    }
   ],
   "source": [
    "# Make array to store label names\n",
    "\n",
    "labels = {\n",
    "        \"evergreen-coverage\" : 0, # when deciduous trees had no leaves\n",
    "        \"light-canopy\" : 1, # when leaves are starting to form\n",
    "        \"dense-canopy\" : 2, # when the trees are at their greenest\n",
    "        \"start-of-senescence\" : 3, # when leaves begin to change colour,\n",
    "        \"senescence\" : 4# when the leaves are very colourful\n",
    "    }\n",
    "\n",
    "\n",
    "labels"
   ]
  },
  {
   "cell_type": "code",
   "execution_count": 5,
   "metadata": {},
   "outputs": [],
   "source": [
    "# copy the path\n",
    "tiff_files = ip.loadDataSet(path)\n",
    "file_path = [\"\" for x in range(len(tiff_files))]\n",
    "\n",
    "# concactinate the folder path to the file name\n",
    "for i in range(len(tiff_files)):\n",
    "    file_path[i] = os.path.join(path, tiff_files[i])\n"
   ]
  },
  {
   "cell_type": "code",
   "execution_count": 6,
   "metadata": {},
   "outputs": [],
   "source": [
    "#extract dates\n",
    "dates = [\"\" for x in range(len(file_path))]\n",
    "for i, file in enumerate(file_path):\n",
    "    dates[i] = file[len(file)-15:len(file)-5]\n",
    "\n"
   ]
  },
  {
   "cell_type": "code",
   "execution_count": 7,
   "metadata": {},
   "outputs": [
    {
     "name": "stderr",
     "output_type": "stream",
     "text": [
      "c:\\Users\\chazd\\AppData\\Local\\Programs\\Python\\Python39\\lib\\site-packages\\rasterio\\__init__.py:331: NotGeoreferencedWarning: Dataset has no geotransform, gcps, or rpcs. The identity matrix will be returned.\n",
      "  dataset = DatasetReader(path, driver=driver, sharing=sharing, **kwargs)\n"
     ]
    }
   ],
   "source": [
    "raster_imgs = np.empty(len(file_path)) \n",
    "\n",
    "#open each file\n",
    "img = rasterio.open(file_path[1])\n",
    "\n",
    "    \n"
   ]
  },
  {
   "cell_type": "code",
   "execution_count": 8,
   "metadata": {},
   "outputs": [],
   "source": [
    "# Open images and move them to a numpy array\n",
    "batch = len(file_path)\n",
    "# set dimension of 3d-array to image height, width and number of bands\n",
    "# ---- maybe add a dimension for labels\n",
    "\n",
    "unlabeled_images = np.zeros((batch, image_height, image_width, bands))\n",
    "\n",
    "for i in range(batch):\n",
    "    #open raster image\n",
    "    img = rasterio.open(file_path[i])\n",
    "\n",
    "    for j in range(bands):\n",
    "        unlabeled_images[i,:,:,j] = img.read(j+1)\n",
    "\n"
   ]
  },
  {
   "cell_type": "code",
   "execution_count": 9,
   "metadata": {},
   "outputs": [],
   "source": [
    "# Load JSON file with image file names and their corresponding labels\n",
    "with open('C:\\\\Users\\\\chazd\\\\OneDrive\\\\Desktop\\\\git\\\\DSS\\\\DSS-MANTIS-OBC-AI\\\\Images\\\\trees_feb2020-Dec2021_10m_labels.json') as json_file:\n",
    "    data = json.load(json_file)\n",
    "\n",
    "# Extract filenames and annotations\n",
    "file_names = [item[\"filename\"] for item in data]\n",
    "annotations_from_json = [item[\"annotations\"] for item in data]\n",
    "\n",
    "# Map annotations from JSON to numerical labels using the label dictionary\n",
    "numerical_labels = np.array([labels[annotation] for annotation in annotations_from_json])\n"
   ]
  },
  {
   "cell_type": "markdown",
   "metadata": {},
   "source": [
    "## Preprocessing"
   ]
  },
  {
   "cell_type": "markdown",
   "metadata": {},
   "source": [
    "Before prepocessing the images, a quick review of the dataset"
   ]
  },
  {
   "cell_type": "code",
   "execution_count": 10,
   "metadata": {},
   "outputs": [
    {
     "name": "stdout",
     "output_type": "stream",
     "text": [
      "Dimensions:  (66, 160, 175, 4)\n",
      "Batch Size:  66\n"
     ]
    }
   ],
   "source": [
    "print(\"Dimensions: \", unlabeled_images.shape)\n",
    "print(\"Batch Size: \", len(unlabeled_images))"
   ]
  },
  {
   "cell_type": "code",
   "execution_count": 11,
   "metadata": {},
   "outputs": [],
   "source": [
    "# normalize all values\n",
    "import cv2\n",
    "import numpy as np\n",
    "\n",
    "def normalize_4channel_image(image):\n",
    "    # Split the image into Red, Green, Blue, and NIR channels\n",
    "    r, g, b, nir = cv2.split(image)\n",
    "\n",
    "    # Normalize each channel\n",
    "    r_normalized = (r - np.min(r)) / (np.max(r) - np.min(r))\n",
    "    g_normalized = (g - np.min(g)) / (np.max(g) - np.min(g))\n",
    "    b_normalized = (b - np.min(b)) / (np.max(b) - np.min(b))\n",
    "    nir_normalized = (nir - np.min(nir)) / (np.max(nir) - np.min(nir))\n",
    "\n",
    "    # Recombine the channels\n",
    "    normalized_image = cv2.merge([r_normalized, g_normalized, b_normalized, nir_normalized])\n",
    "\n",
    "    return normalized_image\n",
    "\n"
   ]
  },
  {
   "cell_type": "code",
   "execution_count": 21,
   "metadata": {},
   "outputs": [],
   "source": [
    "normalized= unlabeled_images\n",
    "\n",
    "for i in range(len(unlabeled_images)):\n",
    "    \n",
    "    normalized[i] = normalize_4channel_image(unlabeled_images[i])\n",
    "    \n"
   ]
  },
  {
   "cell_type": "code",
   "execution_count": 24,
   "metadata": {},
   "outputs": [],
   "source": [
    "#split into test and train\n",
    "split = np.random.randint(0,len(normalized), size = int(len(normalized)*0.9))\n",
    "\n",
    "train_images = normalized[split]\n",
    "train_labels = numerical_labels[split]\n",
    "test_images = normalized[-split]\n",
    "test_labels = numerical_labels[-split]\n"
   ]
  },
  {
   "cell_type": "markdown",
   "metadata": {},
   "source": [
    "## Building Model"
   ]
  },
  {
   "cell_type": "code",
   "execution_count": 18,
   "metadata": {},
   "outputs": [],
   "source": [
    "from tensorflow.keras import datasets, layers, models"
   ]
  },
  {
   "cell_type": "code",
   "execution_count": 19,
   "metadata": {},
   "outputs": [
    {
     "name": "stdout",
     "output_type": "stream",
     "text": [
      "WARNING:tensorflow:From c:\\Users\\chazd\\AppData\\Local\\Programs\\Python\\Python39\\lib\\site-packages\\keras\\src\\backend.py:873: The name tf.get_default_graph is deprecated. Please use tf.compat.v1.get_default_graph instead.\n",
      "\n",
      "WARNING:tensorflow:From c:\\Users\\chazd\\AppData\\Local\\Programs\\Python\\Python39\\lib\\site-packages\\keras\\src\\layers\\pooling\\max_pooling2d.py:161: The name tf.nn.max_pool is deprecated. Please use tf.nn.max_pool2d instead.\n",
      "\n",
      "Model: \"sequential\"\n",
      "_________________________________________________________________\n",
      " Layer (type)                Output Shape              Param #   \n",
      "=================================================================\n",
      " conv2d (Conv2D)             (None, 158, 173, 16)      592       \n",
      "                                                                 \n",
      " max_pooling2d (MaxPooling2  (None, 79, 86, 16)        0         \n",
      " D)                                                              \n",
      "                                                                 \n",
      " conv2d_1 (Conv2D)           (None, 77, 84, 32)        4640      \n",
      "                                                                 \n",
      " max_pooling2d_1 (MaxPoolin  (None, 38, 42, 32)        0         \n",
      " g2D)                                                            \n",
      "                                                                 \n",
      " conv2d_2 (Conv2D)           (None, 36, 40, 16)        4624      \n",
      "                                                                 \n",
      " max_pooling2d_2 (MaxPoolin  (None, 18, 20, 16)        0         \n",
      " g2D)                                                            \n",
      "                                                                 \n",
      " flatten (Flatten)           (None, 5760)              0         \n",
      "                                                                 \n",
      " dense (Dense)               (None, 16)                92176     \n",
      "                                                                 \n",
      " dense_1 (Dense)             (None, 5)                 85        \n",
      "                                                                 \n",
      "=================================================================\n",
      "Total params: 102117 (398.89 KB)\n",
      "Trainable params: 102117 (398.89 KB)\n",
      "Non-trainable params: 0 (0.00 Byte)\n",
      "_________________________________________________________________\n"
     ]
    }
   ],
   "source": [
    "model = models.Sequential()\n",
    "\n",
    "model.add(layers.Conv2D(16,(3,3),1,activation= 'relu', input_shape=(160,175,4)))\n",
    "model.add(layers.MaxPooling2D())\n",
    "\n",
    "model.add(layers.Conv2D(32,(3,3),1, activation= 'relu'))\n",
    "model.add(layers.MaxPooling2D())\n",
    "\n",
    "model.add(layers.Conv2D(16,(3,3),1, activation= 'relu'))\n",
    "model.add(layers.MaxPooling2D())\n",
    "\n",
    "model.add(layers.Flatten())\n",
    "model.add(layers.Dense(16, activation='relu'))\n",
    "model.add(layers.Dense(5))\n",
    "\n",
    "model.summary()"
   ]
  },
  {
   "cell_type": "code",
   "execution_count": 20,
   "metadata": {},
   "outputs": [
    {
     "name": "stdout",
     "output_type": "stream",
     "text": [
      "WARNING:tensorflow:From c:\\Users\\chazd\\AppData\\Local\\Programs\\Python\\Python39\\lib\\site-packages\\keras\\src\\optimizers\\__init__.py:309: The name tf.train.Optimizer is deprecated. Please use tf.compat.v1.train.Optimizer instead.\n",
      "\n"
     ]
    }
   ],
   "source": [
    "#compile\n",
    "model.compile(optimizer='adam',\n",
    "              loss=tf.keras.losses.SparseCategoricalCrossentropy(from_logits=True),\n",
    "              metrics=['accuracy'])\n",
    "\n"
   ]
  },
  {
   "cell_type": "markdown",
   "metadata": {},
   "source": [
    "## Train Model"
   ]
  },
  {
   "cell_type": "code",
   "execution_count": 25,
   "metadata": {},
   "outputs": [
    {
     "name": "stdout",
     "output_type": "stream",
     "text": [
      "Epoch 1/10\n",
      "WARNING:tensorflow:From c:\\Users\\chazd\\AppData\\Local\\Programs\\Python\\Python39\\lib\\site-packages\\keras\\src\\utils\\tf_utils.py:492: The name tf.ragged.RaggedTensorValue is deprecated. Please use tf.compat.v1.ragged.RaggedTensorValue instead.\n",
      "\n",
      "WARNING:tensorflow:From c:\\Users\\chazd\\AppData\\Local\\Programs\\Python\\Python39\\lib\\site-packages\\keras\\src\\engine\\base_layer_utils.py:384: The name tf.executing_eagerly_outside_functions is deprecated. Please use tf.compat.v1.executing_eagerly_outside_functions instead.\n",
      "\n",
      "2/2 [==============================] - 4s 722ms/step - loss: 1.3172 - accuracy: 0.6949 - val_loss: 1.6440 - val_accuracy: 0.5424\n",
      "Epoch 2/10\n",
      "2/2 [==============================] - 0s 268ms/step - loss: 1.1381 - accuracy: 0.6949 - val_loss: 1.3354 - val_accuracy: 0.5424\n",
      "Epoch 3/10\n",
      "2/2 [==============================] - 0s 274ms/step - loss: 0.9741 - accuracy: 0.6949 - val_loss: 1.2029 - val_accuracy: 0.5424\n",
      "Epoch 4/10\n",
      "2/2 [==============================] - 0s 274ms/step - loss: 0.9124 - accuracy: 0.6949 - val_loss: 1.1836 - val_accuracy: 0.5424\n",
      "Epoch 5/10\n",
      "2/2 [==============================] - 0s 253ms/step - loss: 0.8484 - accuracy: 0.6949 - val_loss: 1.2228 - val_accuracy: 0.5424\n",
      "Epoch 6/10\n",
      "2/2 [==============================] - 0s 255ms/step - loss: 0.8235 - accuracy: 0.6949 - val_loss: 1.1503 - val_accuracy: 0.5424\n",
      "Epoch 7/10\n",
      "2/2 [==============================] - 0s 273ms/step - loss: 0.7846 - accuracy: 0.6949 - val_loss: 1.1065 - val_accuracy: 0.5424\n",
      "Epoch 8/10\n",
      "2/2 [==============================] - 0s 266ms/step - loss: 0.7558 - accuracy: 0.6949 - val_loss: 1.0935 - val_accuracy: 0.5424\n",
      "Epoch 9/10\n",
      "2/2 [==============================] - 0s 284ms/step - loss: 0.7204 - accuracy: 0.6949 - val_loss: 1.0987 - val_accuracy: 0.5424\n",
      "Epoch 10/10\n",
      "2/2 [==============================] - 0s 324ms/step - loss: 0.6964 - accuracy: 0.6949 - val_loss: 1.0452 - val_accuracy: 0.5424\n"
     ]
    }
   ],
   "source": [
    "history = model.fit(train_images, train_labels, epochs=10, \n",
    "                    validation_data=(test_images, test_labels))"
   ]
  },
  {
   "cell_type": "markdown",
   "metadata": {},
   "source": [
    "## Model Evaluation"
   ]
  },
  {
   "cell_type": "code",
   "execution_count": 28,
   "metadata": {},
   "outputs": [
    {
     "name": "stdout",
     "output_type": "stream",
     "text": [
      "2/2 - 0s - loss: 1.0452 - accuracy: 0.5424 - 144ms/epoch - 72ms/step\n"
     ]
    }
   ],
   "source": [
    "import matplotlib.pyplot as plt\n",
    "\n",
    "# plt.plot(history.history['accuracy'], label='accuracy')\n",
    "# plt.plot(history.history['val_accuracy'], label = 'val_accuracy')\n",
    "# plt.xlabel('Epoch')\n",
    "# plt.ylabel('Accuracy')\n",
    "# plt.ylim([0.5, 1])\n",
    "# plt.legend(loc='lower right')\n",
    "\n",
    "test_loss, test_acc = model.evaluate(test_images,  test_labels, verbose=2)\n"
   ]
  },
  {
   "cell_type": "code",
   "execution_count": 31,
   "metadata": {},
   "outputs": [
    {
     "name": "stdout",
     "output_type": "stream",
     "text": [
      "Accuracy =  54.23728823661804 %\n"
     ]
    }
   ],
   "source": [
    "print(\"Accuracy = \", test_acc*100, \"%\")"
   ]
  }
 ],
 "metadata": {
  "kernelspec": {
   "display_name": "Python 3",
   "language": "python",
   "name": "python3"
  },
  "language_info": {
   "codemirror_mode": {
    "name": "ipython",
    "version": 3
   },
   "file_extension": ".py",
   "mimetype": "text/x-python",
   "name": "python",
   "nbconvert_exporter": "python",
   "pygments_lexer": "ipython3",
   "version": "3.9.7"
  }
 },
 "nbformat": 4,
 "nbformat_minor": 2
}
