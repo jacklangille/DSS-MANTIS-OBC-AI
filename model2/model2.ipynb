{
 "cells": [
  {
   "cell_type": "markdown",
   "metadata": {},
   "source": [
    "'''\n",
    "THIS FILE IS FOR TRAINING THE TREE PHENOLOGY MODEL\n",
    "CODE WRITTEN FOR CUBESAT MANTIS PROGRAM (DSS)\n",
    "AUTHOR: CHAZ DAVIES\n",
    "''' \n"
   ]
  },
  {
   "cell_type": "code",
   "execution_count": 2,
   "metadata": {},
   "outputs": [
    {
     "name": "stdout",
     "output_type": "stream",
     "text": [
      "WARNING:tensorflow:From c:\\Users\\chazd\\AppData\\Local\\Programs\\Python\\Python39\\lib\\site-packages\\keras\\src\\losses.py:2976: The name tf.losses.sparse_softmax_cross_entropy is deprecated. Please use tf.compat.v1.losses.sparse_softmax_cross_entropy instead.\n",
      "\n"
     ]
    }
   ],
   "source": [
    "\n",
    "import tensorflow as tf\n",
    "import numpy as np\n",
    "import matplotlib as img \n",
    "import rasterio\n",
    "import os\n",
    "import image_process as ip\n",
    "from rasterio.plot import show\n",
    "import json\n",
    "import keras\n"
   ]
  },
  {
   "cell_type": "code",
   "execution_count": 3,
   "metadata": {},
   "outputs": [],
   "source": [
    "\n",
    "path = 'C:\\\\Users\\\\chazd\\\\OneDrive\\Desktop\\\\git\\DSS\\DSS-MANTIS-OBC-AI\\\\Images\\\\tree-phen\\\\trees_feb2020-Dec2021_10m'"
   ]
  },
  {
   "cell_type": "code",
   "execution_count": 4,
   "metadata": {},
   "outputs": [],
   "source": [
    "## set constants\n",
    "# might change during training process\n",
    "image_height = 160\n",
    "image_width = 175\n",
    "bands = 4\n"
   ]
  },
  {
   "cell_type": "code",
   "execution_count": 5,
   "metadata": {},
   "outputs": [
    {
     "data": {
      "text/plain": [
       "{'evergreen-coverage': 0,\n",
       " 'light-canopy': 1,\n",
       " 'dense-canopy': 2,\n",
       " 'start-of-senescence': 3,\n",
       " 'senescence': 4}"
      ]
     },
     "execution_count": 5,
     "metadata": {},
     "output_type": "execute_result"
    }
   ],
   "source": [
    "# Make array to store label names\n",
    "\n",
    "labels = {\n",
    "        \"evergreen-coverage\" : 0, # when deciduous trees had no leaves\n",
    "        \"light-canopy\" : 1, # when leaves are starting to form\n",
    "        \"dense-canopy\" : 2, # when the tresses are at their greenest\n",
    "        \"start-of-senescence\" : 3, # when leaves begin to change colour,\n",
    "        \"senescence\" : 4 # when the leaves are very colourful\n",
    "    }\n",
    "\n",
    "\n",
    "labels"
   ]
  },
  {
   "cell_type": "code",
   "execution_count": 6,
   "metadata": {},
   "outputs": [],
   "source": [
    "# copy the path\n",
    "tiff_files = ip.loadDataSet(path)\n",
    "file_path = [\"\" for x in range(len(tiff_files))]\n",
    "\n",
    "# concactinate the folder path to the file name\n",
    "for i in range(len(tiff_files)):\n",
    "    file_path[i] = os.path.join(path, tiff_files[i])\n"
   ]
  },
  {
   "cell_type": "code",
   "execution_count": 7,
   "metadata": {},
   "outputs": [],
   "source": [
    "#extract dates\n",
    "dates = [\"\" for x in range(len(file_path))]\n",
    "for i, file in enumerate(file_path):\n",
    "    dates[i] = file[len(file)-15:len(file)-5]\n",
    "\n"
   ]
  },
  {
   "cell_type": "code",
   "execution_count": 8,
   "metadata": {},
   "outputs": [
    {
     "name": "stderr",
     "output_type": "stream",
     "text": [
      "c:\\Users\\chazd\\AppData\\Local\\Programs\\Python\\Python39\\lib\\site-packages\\rasterio\\__init__.py:331: NotGeoreferencedWarning: Dataset has no geotransform, gcps, or rpcs. The identity matrix will be returned.\n",
      "  dataset = DatasetReader(path, driver=driver, sharing=sharing, **kwargs)\n"
     ]
    }
   ],
   "source": [
    "raster_imgs = np.empty(len(file_path)) \n",
    "\n",
    "#open each file\n",
    "img = rasterio.open(file_path[1])\n",
    "\n",
    "    \n"
   ]
  },
  {
   "cell_type": "code",
   "execution_count": 9,
   "metadata": {},
   "outputs": [],
   "source": [
    "# Open images and move them to a numpy array\n",
    "batch = len(file_path)\n",
    "# set dimension of 3d-array to image height, width and number of bands\n",
    "# ---- maybe add a dimension for labels\n",
    "\n",
    "unlabeled_images = np.zeros((batch, image_height, image_width, bands))\n",
    "\n",
    "for i in range(batch):\n",
    "    #open raster image\n",
    "    img = rasterio.open(file_path[i])\n",
    "\n",
    "    for j in range(bands):\n",
    "        unlabeled_images[i,:,:,j] = img.read(j+1)\n",
    "\n"
   ]
  },
  {
   "cell_type": "code",
   "execution_count": 10,
   "metadata": {},
   "outputs": [],
   "source": [
    "# Load JSON file with image file names and their corresponding labels\n",
    "with open('C:\\\\Users\\\\chazd\\\\OneDrive\\\\Desktop\\\\git\\\\DSS\\\\DSS-MANTIS-OBC-AI\\\\Images\\\\trees_feb2020-Dec2021_10m_labels.json') as json_file:\n",
    "    data = json.load(json_file)\n",
    "\n",
    "# Extract filenames and annotations\n",
    "file_names = [item[\"filename\"] for item in data]\n",
    "annotations_from_json = [item[\"annotations\"] for item in data]\n",
    "\n",
    "# Map annotations from JSON to numerical labels using the label dictionary\n",
    "numerical_labels = np.array([labels[annotation] for annotation in annotations_from_json])\n"
   ]
  },
  {
   "cell_type": "markdown",
   "metadata": {},
   "source": [
    "## Preprocessing"
   ]
  },
  {
   "cell_type": "markdown",
   "metadata": {},
   "source": [
    "Before prepocessing the images, a quick review of the dataset"
   ]
  },
  {
   "cell_type": "code",
   "execution_count": 11,
   "metadata": {},
   "outputs": [
    {
     "name": "stdout",
     "output_type": "stream",
     "text": [
      "Dimensions:  (66, 160, 175, 4)\n",
      "Batch Size:  66\n"
     ]
    }
   ],
   "source": [
    "print(\"Dimensions: \", unlabeled_images.shape)\n",
    "print(\"Batch Size: \", len(unlabeled_images))"
   ]
  },
  {
   "cell_type": "code",
   "execution_count": 12,
   "metadata": {},
   "outputs": [],
   "source": [
    "# normalize all values\n",
    "import cv2\n",
    "import numpy as np\n",
    "\n",
    "def normalize_4channel_image(image):\n",
    "    # Split the image into Red, Green, Blue, and NIR channels\n",
    "    r, g, b, nir = cv2.split(image)\n",
    "\n",
    "    # Normalize each channel\n",
    "    r_normalized = (r - np.min(r)) / (np.max(r) - np.min(r))\n",
    "    g_normalized = (g - np.min(g)) / (np.max(g) - np.min(g))\n",
    "    b_normalized = (b - np.min(b)) / (np.max(b) - np.min(b))\n",
    "    nir_normalized = (nir - np.min(nir)) / (np.max(nir) - np.min(nir))\n",
    "\n",
    "    # Recombine the channels\n",
    "    normalized_image = cv2.merge([r_normalized, g_normalized, b_normalized, nir_normalized])\n",
    "\n",
    "    return normalized_image\n",
    "\n"
   ]
  },
  {
   "cell_type": "code",
   "execution_count": 13,
   "metadata": {},
   "outputs": [],
   "source": [
    "normalized= unlabeled_images\n",
    "\n",
    "for i in range(len(unlabeled_images)):\n",
    "    \n",
    "    normalized[i] = normalize_4channel_image(unlabeled_images[i])\n",
    "    \n"
   ]
  },
  {
   "cell_type": "code",
   "execution_count": 14,
   "metadata": {},
   "outputs": [],
   "source": [
    "#split into test and train\n",
    "split = np.random.randint(0,len(normalized), size = int(len(normalized)*0.9))\n",
    "\n",
    "train_images = normalized[split]\n",
    "train_labels = numerical_labels[split]\n",
    "test_images = normalized[-split]\n",
    "test_labels = numerical_labels[-split]\n"
   ]
  },
  {
   "cell_type": "markdown",
   "metadata": {},
   "source": [
    "## Model First Itertion"
   ]
  },
  {
   "cell_type": "code",
   "execution_count": 15,
   "metadata": {},
   "outputs": [],
   "source": [
    "from tensorflow.keras import datasets, layers, models"
   ]
  },
  {
   "cell_type": "code",
   "execution_count": 16,
   "metadata": {},
   "outputs": [
    {
     "name": "stdout",
     "output_type": "stream",
     "text": [
      "WARNING:tensorflow:From c:\\Users\\chazd\\AppData\\Local\\Programs\\Python\\Python39\\lib\\site-packages\\keras\\src\\backend.py:873: The name tf.get_default_graph is deprecated. Please use tf.compat.v1.get_default_graph instead.\n",
      "\n",
      "WARNING:tensorflow:From c:\\Users\\chazd\\AppData\\Local\\Programs\\Python\\Python39\\lib\\site-packages\\keras\\src\\layers\\pooling\\max_pooling2d.py:161: The name tf.nn.max_pool is deprecated. Please use tf.nn.max_pool2d instead.\n",
      "\n",
      "Model: \"sequential\"\n",
      "_________________________________________________________________\n",
      " Layer (type)                Output Shape              Param #   \n",
      "=================================================================\n",
      " conv2d (Conv2D)             (None, 158, 173, 16)      592       \n",
      "                                                                 \n",
      " max_pooling2d (MaxPooling2  (None, 79, 86, 16)        0         \n",
      " D)                                                              \n",
      "                                                                 \n",
      " conv2d_1 (Conv2D)           (None, 77, 84, 32)        4640      \n",
      "                                                                 \n",
      " max_pooling2d_1 (MaxPoolin  (None, 38, 42, 32)        0         \n",
      " g2D)                                                            \n",
      "                                                                 \n",
      " conv2d_2 (Conv2D)           (None, 36, 40, 16)        4624      \n",
      "                                                                 \n",
      " max_pooling2d_2 (MaxPoolin  (None, 18, 20, 16)        0         \n",
      " g2D)                                                            \n",
      "                                                                 \n",
      " flatten (Flatten)           (None, 5760)              0         \n",
      "                                                                 \n",
      " dense (Dense)               (None, 16)                92176     \n",
      "                                                                 \n",
      " dense_1 (Dense)             (None, 5)                 85        \n",
      "                                                                 \n",
      "=================================================================\n",
      "Total params: 102117 (398.89 KB)\n",
      "Trainable params: 102117 (398.89 KB)\n",
      "Non-trainable params: 0 (0.00 Byte)\n",
      "_________________________________________________________________\n"
     ]
    }
   ],
   "source": [
    "model = models.Sequential()\n",
    "\n",
    "model.add(layers.Conv2D(16,(3,3),1,activation= 'softmax', input_shape=(160,175,4)))\n",
    "model.add(layers.MaxPooling2D())\n",
    "\n",
    "model.add(layers.Conv2D(32,(3,3),1, activation= 'softmax'))\n",
    "model.add(layers.MaxPooling2D())\n",
    "\n",
    "model.add(layers.Conv2D(16,(3,3),1, activation= 'softmax'))\n",
    "model.add(layers.MaxPooling2D())\n",
    "\n",
    "# ry softmax\n",
    "\n",
    "model.add(layers.Flatten())\n",
    "model.add(layers.Dense(16, activation='softmax'))\n",
    "model.add(layers.Dense(5, activation='softmax')) \n",
    "\n",
    "model.summary()"
   ]
  },
  {
   "cell_type": "code",
   "execution_count": 17,
   "metadata": {},
   "outputs": [
    {
     "name": "stdout",
     "output_type": "stream",
     "text": [
      "WARNING:tensorflow:From c:\\Users\\chazd\\AppData\\Local\\Programs\\Python\\Python39\\lib\\site-packages\\keras\\src\\optimizers\\__init__.py:309: The name tf.train.Optimizer is deprecated. Please use tf.compat.v1.train.Optimizer instead.\n",
      "\n"
     ]
    }
   ],
   "source": [
    "#compile\n",
    "model.compile(optimizer='adam',\n",
    "              loss=tf.keras.losses.SparseCategoricalCrossentropy(from_logits=True),\n",
    "              metrics=['accuracy'])\n",
    "\n",
    "history = model.fit(train_images, train_labels, epochs=10, \n",
    "                    validation_data=(test_images, test_labels))\n",
    "\n",
    "\n",
    "test_loss, test_acc = model.evaluate(test_images,  test_labels, verbose=2)\n",
    "print(\"Accuracy = \", test_acc*100, \"%\")\n"
   ]
  },
  {
   "cell_type": "markdown",
   "metadata": {},
   "source": [
    "## VGG16 Model"
   ]
  },
  {
   "cell_type": "code",
   "execution_count": 42,
   "metadata": {},
   "outputs": [],
   "source": [
    "# Remove Blue band\n",
    "X_train = np.delete(train_images, 2, 3)\n",
    "X_test = np.delete(test_images, 2, 3)\n",
    "y_train = train_labels\n",
    "y_test = test_labels"
   ]
  },
  {
   "cell_type": "code",
   "execution_count": 27,
   "metadata": {},
   "outputs": [],
   "source": [
    "width = train_images.shape[1]\n",
    "height = train_images.shape[2]\n",
    "bands = 3\n",
    "\n",
    "vgg16 = tf.keras.applications.vgg16.VGG16(\n",
    "    include_top=False,\n",
    "    weights='imagenet',\n",
    "    input_shape= (width, height, bands),\n",
    "    pooling=None,\n",
    "    classes=1000,\n",
    "    classifier_activation='softmax'\n",
    ")"
   ]
  },
  {
   "cell_type": "code",
   "execution_count": 29,
   "metadata": {},
   "outputs": [],
   "source": [
    "vgg16.trainable = False\n",
    "\n",
    "\n",
    "inputs = keras.Input(shape=(width, height, bands))\n",
    "x = vgg16(inputs, training=False)\n",
    "\n",
    "x = keras.layers.GlobalAveragePooling2D()(x)\n",
    "# A Dense classifier with a single unit (binary classification)\n",
    "outputs = keras.layers.Dense(5)(x)\n",
    "vgg16_model = keras.Model(inputs, outputs)"
   ]
  },
  {
   "cell_type": "code",
   "execution_count": 31,
   "metadata": {},
   "outputs": [
    {
     "name": "stdout",
     "output_type": "stream",
     "text": [
      "Model: \"model_1\"\n",
      "_________________________________________________________________\n",
      " Layer (type)                Output Shape              Param #   \n",
      "=================================================================\n",
      " input_5 (InputLayer)        [(None, 160, 175, 3)]     0         \n",
      "                                                                 \n",
      " vgg16 (Functional)          (None, 5, 5, 512)         14714688  \n",
      "                                                                 \n",
      " global_average_pooling2d_1  (None, 512)               0         \n",
      "  (GlobalAveragePooling2D)                                       \n",
      "                                                                 \n",
      " dense_3 (Dense)             (None, 5)                 2565      \n",
      "                                                                 \n",
      "=================================================================\n",
      "Total params: 14717253 (56.14 MB)\n",
      "Trainable params: 2565 (10.02 KB)\n",
      "Non-trainable params: 14714688 (56.13 MB)\n",
      "_________________________________________________________________\n"
     ]
    }
   ],
   "source": [
    "vgg16_model.summary()"
   ]
  },
  {
   "cell_type": "code",
   "execution_count": 43,
   "metadata": {},
   "outputs": [
    {
     "name": "stdout",
     "output_type": "stream",
     "text": [
      "Epoch 1/11\n",
      "WARNING:tensorflow:From c:\\Users\\chazd\\AppData\\Local\\Programs\\Python\\Python39\\lib\\site-packages\\keras\\src\\utils\\tf_utils.py:492: The name tf.ragged.RaggedTensorValue is deprecated. Please use tf.compat.v1.ragged.RaggedTensorValue instead.\n",
      "\n",
      "WARNING:tensorflow:From c:\\Users\\chazd\\AppData\\Local\\Programs\\Python\\Python39\\lib\\site-packages\\keras\\src\\engine\\base_layer_utils.py:384: The name tf.executing_eagerly_outside_functions is deprecated. Please use tf.compat.v1.executing_eagerly_outside_functions instead.\n",
      "\n",
      "2/2 [==============================] - 11s 7s/step - loss: 2.0174 - accuracy: 0.1017 - val_loss: 1.8431 - val_accuracy: 0.1356\n",
      "Epoch 2/11\n",
      "2/2 [==============================] - 8s 6s/step - loss: 1.8756 - accuracy: 0.1017 - val_loss: 1.7162 - val_accuracy: 0.1356\n",
      "Epoch 3/11\n",
      "2/2 [==============================] - 8s 6s/step - loss: 1.7540 - accuracy: 0.1695 - val_loss: 1.6034 - val_accuracy: 0.2373\n",
      "Epoch 4/11\n",
      "2/2 [==============================] - 9s 7s/step - loss: 1.6502 - accuracy: 0.2542 - val_loss: 1.5067 - val_accuracy: 0.5424\n",
      "Epoch 5/11\n",
      "2/2 [==============================] - 10s 7s/step - loss: 1.5538 - accuracy: 0.5085 - val_loss: 1.4265 - val_accuracy: 0.6102\n",
      "Epoch 6/11\n",
      "2/2 [==============================] - 10s 7s/step - loss: 1.4859 - accuracy: 0.5254 - val_loss: 1.3607 - val_accuracy: 0.6102\n",
      "Epoch 7/11\n",
      "2/2 [==============================] - 9s 7s/step - loss: 1.4201 - accuracy: 0.5254 - val_loss: 1.3100 - val_accuracy: 0.6102\n",
      "Epoch 8/11\n",
      "2/2 [==============================] - 10s 8s/step - loss: 1.3775 - accuracy: 0.5254 - val_loss: 1.2720 - val_accuracy: 0.6102\n",
      "Epoch 9/11\n",
      "2/2 [==============================] - 10s 7s/step - loss: 1.3408 - accuracy: 0.5254 - val_loss: 1.2440 - val_accuracy: 0.6102\n",
      "Epoch 10/11\n",
      "2/2 [==============================] - 10s 7s/step - loss: 1.3179 - accuracy: 0.5254 - val_loss: 1.2245 - val_accuracy: 0.6102\n",
      "Epoch 11/11\n",
      "2/2 [==============================] - 9s 7s/step - loss: 1.3020 - accuracy: 0.5254 - val_loss: 1.2106 - val_accuracy: 0.6102\n"
     ]
    },
    {
     "data": {
      "text/plain": [
       "<keras.src.callbacks.History at 0x1eab6ed2370>"
      ]
     },
     "execution_count": 43,
     "metadata": {},
     "output_type": "execute_result"
    }
   ],
   "source": [
    "vgg16_model.compile(optimizer='adam',\n",
    "              loss=tf.keras.losses.SparseCategoricalCrossentropy(from_logits=True),\n",
    "              metrics=['accuracy'])\n",
    "\n",
    "vgg16_model.fit(X_train, y_train, epochs=11, \n",
    "                    validation_data=(X_test, y_test))"
   ]
  },
  {
   "cell_type": "code",
   "execution_count": 46,
   "metadata": {},
   "outputs": [
    {
     "name": "stdout",
     "output_type": "stream",
     "text": [
      "2/2 - 5s - loss: 1.2106 - accuracy: 0.6102 - 5s/epoch - 3s/step\n",
      "Accuracy =  61.01694703102112 %\n"
     ]
    }
   ],
   "source": [
    "test_loss, test_acc = vgg16_model.evaluate(X_test,  y_test, verbose=2)\n",
    "print(\"Accuracy = \", test_acc*100, \"%\")"
   ]
  },
  {
   "cell_type": "markdown",
   "metadata": {},
   "source": [
    "### Results"
   ]
  },
  {
   "cell_type": "code",
   "execution_count": null,
   "metadata": {},
   "outputs": [],
   "source": []
  },
  {
   "cell_type": "markdown",
   "metadata": {},
   "source": [
    "## Resnet"
   ]
  },
  {
   "cell_type": "code",
   "execution_count": 47,
   "metadata": {},
   "outputs": [
    {
     "name": "stdout",
     "output_type": "stream",
     "text": [
      "Downloading data from https://storage.googleapis.com/tensorflow/keras-applications/resnet/resnet50_weights_tf_dim_ordering_tf_kernels_notop.h5\n",
      "94765736/94765736 [==============================] - 160s 2us/step\n"
     ]
    }
   ],
   "source": [
    "width = train_images.shape[1]\n",
    "height = train_images.shape[2]\n",
    "bands = 3\n",
    "\n",
    "resnet = tf.keras.applications.resnet50.ResNet50(\n",
    "    include_top=False,\n",
    "    weights='imagenet',\n",
    "    input_shape=(width, height, bands),\n",
    "    pooling=None,\n",
    ")"
   ]
  },
  {
   "cell_type": "code",
   "execution_count": 48,
   "metadata": {},
   "outputs": [],
   "source": [
    "resnet.trainable = False\n",
    "\n",
    "\n",
    "inputs = keras.Input(shape=(width, height, bands))\n",
    "x = resnet(inputs, training=False)\n",
    "\n",
    "x = keras.layers.GlobalAveragePooling2D()(x)\n",
    "# A Dense classifier with a single unit (binary classification)\n",
    "outputs = keras.layers.Dense(5)(x)\n",
    "resnet_model = keras.Model(inputs, outputs)"
   ]
  },
  {
   "cell_type": "code",
   "execution_count": 49,
   "metadata": {},
   "outputs": [
    {
     "name": "stdout",
     "output_type": "stream",
     "text": [
      "Model: \"model_2\"\n",
      "_________________________________________________________________\n",
      " Layer (type)                Output Shape              Param #   \n",
      "=================================================================\n",
      " input_7 (InputLayer)        [(None, 160, 175, 3)]     0         \n",
      "                                                                 \n",
      " resnet50 (Functional)       (None, 5, 6, 2048)        23587712  \n",
      "                                                                 \n",
      " global_average_pooling2d_2  (None, 2048)              0         \n",
      "  (GlobalAveragePooling2D)                                       \n",
      "                                                                 \n",
      " dense_4 (Dense)             (None, 5)                 10245     \n",
      "                                                                 \n",
      "=================================================================\n",
      "Total params: 23597957 (90.02 MB)\n",
      "Trainable params: 10245 (40.02 KB)\n",
      "Non-trainable params: 23587712 (89.98 MB)\n",
      "_________________________________________________________________\n"
     ]
    }
   ],
   "source": [
    "resnet_model.summary()"
   ]
  },
  {
   "cell_type": "code",
   "execution_count": 50,
   "metadata": {},
   "outputs": [
    {
     "name": "stdout",
     "output_type": "stream",
     "text": [
      "Epoch 1/11\n",
      "2/2 [==============================] - 11s 7s/step - loss: 1.2862 - accuracy: 0.5254 - val_loss: 1.1969 - val_accuracy: 0.6102\n",
      "Epoch 2/11\n",
      "2/2 [==============================] - 9s 7s/step - loss: 1.2674 - accuracy: 0.5254 - val_loss: 1.1925 - val_accuracy: 0.6102\n",
      "Epoch 3/11\n",
      "2/2 [==============================] - 9s 7s/step - loss: 1.2523 - accuracy: 0.5254 - val_loss: 1.1893 - val_accuracy: 0.6102\n",
      "Epoch 4/11\n",
      "2/2 [==============================] - 13s 10s/step - loss: 1.2371 - accuracy: 0.5254 - val_loss: 1.1829 - val_accuracy: 0.6102\n",
      "Epoch 5/11\n",
      "2/2 [==============================] - 14s 10s/step - loss: 1.2252 - accuracy: 0.5254 - val_loss: 1.1765 - val_accuracy: 0.6102\n",
      "Epoch 6/11\n",
      "2/2 [==============================] - 14s 11s/step - loss: 1.2152 - accuracy: 0.5254 - val_loss: 1.1702 - val_accuracy: 0.6102\n",
      "Epoch 7/11\n",
      "2/2 [==============================] - 13s 9s/step - loss: 1.2037 - accuracy: 0.5254 - val_loss: 1.1627 - val_accuracy: 0.6102\n",
      "Epoch 8/11\n",
      "2/2 [==============================] - 13s 9s/step - loss: 1.1942 - accuracy: 0.5254 - val_loss: 1.1565 - val_accuracy: 0.6102\n",
      "Epoch 9/11\n",
      "2/2 [==============================] - 11s 8s/step - loss: 1.1836 - accuracy: 0.5254 - val_loss: 1.1477 - val_accuracy: 0.6102\n",
      "Epoch 10/11\n",
      "2/2 [==============================] - 12s 9s/step - loss: 1.1739 - accuracy: 0.5254 - val_loss: 1.1396 - val_accuracy: 0.6102\n",
      "Epoch 11/11\n",
      "2/2 [==============================] - 11s 8s/step - loss: 1.1637 - accuracy: 0.5254 - val_loss: 1.1319 - val_accuracy: 0.6102\n"
     ]
    },
    {
     "data": {
      "text/plain": [
       "<keras.src.callbacks.History at 0x1eab77793d0>"
      ]
     },
     "execution_count": 50,
     "metadata": {},
     "output_type": "execute_result"
    }
   ],
   "source": [
    "resnet_model.compile(optimizer='adam',\n",
    "              loss=tf.keras.losses.SparseCategoricalCrossentropy(from_logits=True),\n",
    "              metrics=['accuracy'])\n",
    "\n",
    "resnet_model.fit(X_train, y_train, epochs=11, \n",
    "                    validation_data=(X_test, y_test))"
   ]
  },
  {
   "cell_type": "markdown",
   "metadata": {},
   "source": [
    "### Results"
   ]
  },
  {
   "cell_type": "code",
   "execution_count": null,
   "metadata": {},
   "outputs": [],
   "source": []
  },
  {
   "cell_type": "markdown",
   "metadata": {},
   "source": [
    "## Densenet"
   ]
  },
  {
   "cell_type": "code",
   "execution_count": 51,
   "metadata": {},
   "outputs": [],
   "source": [
    "width = train_images.shape[1]\n",
    "height = train_images.shape[2]\n",
    "bands = 3\n",
    "\n",
    "densenet = tf.keras.applications.densenet.DenseNet121(\n",
    "    include_top=False,\n",
    "    weights='imagenet',\n",
    "    input_shape=(width, height, bands),\n",
    "    pooling=None,\n",
    "    classifier_activation='softmax'\n",
    ")"
   ]
  },
  {
   "cell_type": "code",
   "execution_count": null,
   "metadata": {},
   "outputs": [],
   "source": [
    "densenet.trainable = False\n",
    "\n",
    "\n",
    "inputs = keras.Input(shape=(width, height, bands))\n",
    "x = densenet(inputs, training=False)\n",
    "\n",
    "x = keras.layers.GlobalAveragePooling2D()(x)\n",
    "# A Dense classifier with a single unit (binary classification)\n",
    "outputs = keras.layers.Dense(5)(x)\n",
    "densenet_model = keras.Model(inputs, outputs)"
   ]
  },
  {
   "cell_type": "code",
   "execution_count": null,
   "metadata": {},
   "outputs": [],
   "source": [
    "densenet_model.compile(optimizer='adam',\n",
    "              loss=tf.keras.losses.SparseCategoricalCrossentropy(from_logits=True),\n",
    "              metrics=['accuracy'])\n",
    "\n",
    "densenet_model.fit(X_train, y_train, epochs=11, \n",
    "                    validation_data=(X_test, y_test))"
   ]
  },
  {
   "cell_type": "markdown",
   "metadata": {},
   "source": [
    "## Mobilenet"
   ]
  },
  {
   "cell_type": "code",
   "execution_count": 1,
   "metadata": {},
   "outputs": [
    {
     "ename": "NameError",
     "evalue": "name 'tf' is not defined",
     "output_type": "error",
     "traceback": [
      "\u001b[1;31m---------------------------------------------------------------------------\u001b[0m",
      "\u001b[1;31mNameError\u001b[0m                                 Traceback (most recent call last)",
      "Cell \u001b[1;32mIn[1], line 1\u001b[0m\n\u001b[1;32m----> 1\u001b[0m mobilenet \u001b[38;5;241m=\u001b[39m \u001b[43mtf\u001b[49m\u001b[38;5;241m.\u001b[39mkeras\u001b[38;5;241m.\u001b[39mapplications\u001b[38;5;241m.\u001b[39mmobilenet\u001b[38;5;241m.\u001b[39mMobileNet(\n\u001b[0;32m      2\u001b[0m     alpha\u001b[38;5;241m=\u001b[39m\u001b[38;5;241m1.0\u001b[39m,\n\u001b[0;32m      3\u001b[0m     depth_multiplier\u001b[38;5;241m=\u001b[39m\u001b[38;5;241m1\u001b[39m,\n\u001b[0;32m      4\u001b[0m     dropout\u001b[38;5;241m=\u001b[39m\u001b[38;5;241m0.001\u001b[39m,\n\u001b[0;32m      5\u001b[0m     include_top\u001b[38;5;241m=\u001b[39m\u001b[38;5;28;01mFalse\u001b[39;00m,\n\u001b[0;32m      6\u001b[0m     weights\u001b[38;5;241m=\u001b[39m\u001b[38;5;124m'\u001b[39m\u001b[38;5;124mimagenet\u001b[39m\u001b[38;5;124m'\u001b[39m,\n\u001b[0;32m      7\u001b[0m     input_tensor\u001b[38;5;241m=\u001b[39m\u001b[38;5;28;01mNone\u001b[39;00m,\n\u001b[0;32m      8\u001b[0m     pooling\u001b[38;5;241m=\u001b[39m\u001b[38;5;28;01mNone\u001b[39;00m,\n\u001b[0;32m      9\u001b[0m     classifier_activation\u001b[38;5;241m=\u001b[39m\u001b[38;5;124m'\u001b[39m\u001b[38;5;124msoftmax\u001b[39m\u001b[38;5;124m'\u001b[39m,\n\u001b[0;32m     10\u001b[0m )\n",
      "\u001b[1;31mNameError\u001b[0m: name 'tf' is not defined"
     ]
    }
   ],
   "source": [
    "mobilenet = tf.keras.applications.mobilenet.MobileNet(\n",
    "    alpha=1.0,\n",
    "    depth_multiplier=1,\n",
    "    dropout=0.001,\n",
    "    include_top=False,\n",
    "    weights='imagenet',\n",
    "    input_tensor=None,\n",
    "    pooling=None,\n",
    "    classifier_activation='softmax',\n",
    ")"
   ]
  },
  {
   "cell_type": "code",
   "execution_count": null,
   "metadata": {},
   "outputs": [],
   "source": [
    "mobilenet.trainable = False\n",
    "\n",
    "\n",
    "inputs = keras.Input(shape=(width, height, bands))\n",
    "x = mobilenet(inputs, training=False)\n",
    "\n",
    "x = keras.layers.GlobalAveragePooling2D()(x)\n",
    "# A Dense classifier with a single unit (binary classification)\n",
    "outputs = keras.layers.Dense(5)(x)\n",
    "mobilenet_model = keras.Model(inputs, outputs)"
   ]
  },
  {
   "cell_type": "code",
   "execution_count": null,
   "metadata": {},
   "outputs": [],
   "source": [
    "mobilenet_model.compile(optimizer='adam',\n",
    "              loss=tf.keras.losses.SparseCategoricalCrossentropy(from_logits=True),\n",
    "              metrics=['accuracy'])\n",
    "\n",
    "mobilenet_model.fit(X_train, y_train, epochs=11, \n",
    "                    validation_data=(X_test, y_test))"
   ]
  }
 ],
 "metadata": {
  "kernelspec": {
   "display_name": "Python 3",
   "language": "python",
   "name": "python3"
  },
  "language_info": {
   "codemirror_mode": {
    "name": "ipython",
    "version": 3
   },
   "file_extension": ".py",
   "mimetype": "text/x-python",
   "name": "python",
   "nbconvert_exporter": "python",
   "pygments_lexer": "ipython3",
   "version": "3.9.7"
  }
 },
 "nbformat": 4,
 "nbformat_minor": 2
}
