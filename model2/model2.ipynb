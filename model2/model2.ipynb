{
 "cells": [
  {
   "cell_type": "markdown",
   "metadata": {},
   "source": [
    "'''\n",
    "THIS FILE IS FOR TRAINING THE TREE PHENOLOGY MODEL\n",
    "CODE WRITTEN FOR CUBESAT MANTIS PROGRAM (DSS)\n",
    "AUTHOR: CHAZ DAVIES\n",
    "''' \n"
   ]
  },
  {
   "cell_type": "code",
   "execution_count": 9,
   "metadata": {},
   "outputs": [],
   "source": [
    "\n",
    "import tensorflow as tf\n",
    "import numpy as np\n",
    "import matplotlib as img \n",
    "import rasterio\n",
    "import os\n",
    "import image_process as ip\n",
    "from rasterio.plot import show\n"
   ]
  },
  {
   "cell_type": "code",
   "execution_count": 34,
   "metadata": {},
   "outputs": [
    {
     "name": "stdout",
     "output_type": "stream",
     "text": [
      "C:\\Users\\chazd\\OneDrive\\Desktop\\git\\DSS\\DSS-MANTIS-OBC-AI\\Images\\tree-phen\\trees_feb2020-Dec2021_10m\n"
     ]
    }
   ],
   "source": [
    "\n",
    "path = 'C:\\\\Users\\\\chazd\\\\OneDrive\\Desktop\\\\git\\DSS\\DSS-MANTIS-OBC-AI\\\\Images\\\\tree-phen\\\\trees_feb2020-Dec2021_10m'\n",
    "\n",
    "\n",
    "print(path)"
   ]
  },
  {
   "cell_type": "code",
   "execution_count": 35,
   "metadata": {},
   "outputs": [],
   "source": [
    "## set constants\n",
    "# might change during training process\n",
    "image_height = 160\n",
    "image_width = 175\n",
    "bands = 4\n"
   ]
  },
  {
   "cell_type": "code",
   "execution_count": null,
   "metadata": {},
   "outputs": [],
   "source": [
    "# Make array to store label names\n",
    "\n",
    "labels = np.array(\n",
    "    (\n",
    "        \"Bud Burst\",\n",
    "        \"Full leaf out\",\n",
    "        \"Lead colour change\",\n",
    "        \"Leaf fall\"\n",
    "    )\n",
    ")\n",
    "\n",
    "labels"
   ]
  },
  {
   "cell_type": "code",
   "execution_count": 45,
   "metadata": {},
   "outputs": [
    {
     "data": {
      "text/plain": [
       "['C:\\\\Users\\\\chazd\\\\OneDrive\\\\Desktop\\\\git\\\\DSS\\\\DSS-MANTIS-OBC-AI\\\\Images\\\\tree-phen\\\\trees_feb2020-Dec2021_10m\\\\2020-02-21.tiff',\n",
       " 'C:\\\\Users\\\\chazd\\\\OneDrive\\\\Desktop\\\\git\\\\DSS\\\\DSS-MANTIS-OBC-AI\\\\Images\\\\tree-phen\\\\trees_feb2020-Dec2021_10m\\\\2020-02-23.tiff',\n",
       " 'C:\\\\Users\\\\chazd\\\\OneDrive\\\\Desktop\\\\git\\\\DSS\\\\DSS-MANTIS-OBC-AI\\\\Images\\\\tree-phen\\\\trees_feb2020-Dec2021_10m\\\\2020-02-26.tiff',\n",
       " 'C:\\\\Users\\\\chazd\\\\OneDrive\\\\Desktop\\\\git\\\\DSS\\\\DSS-MANTIS-OBC-AI\\\\Images\\\\tree-phen\\\\trees_feb2020-Dec2021_10m\\\\2020-03-09.tiff',\n",
       " 'C:\\\\Users\\\\chazd\\\\OneDrive\\\\Desktop\\\\git\\\\DSS\\\\DSS-MANTIS-OBC-AI\\\\Images\\\\tree-phen\\\\trees_feb2020-Dec2021_10m\\\\2020-04-06.tiff',\n",
       " 'C:\\\\Users\\\\chazd\\\\OneDrive\\\\Desktop\\\\git\\\\DSS\\\\DSS-MANTIS-OBC-AI\\\\Images\\\\tree-phen\\\\trees_feb2020-Dec2021_10m\\\\2020-04-21.tiff',\n",
       " 'C:\\\\Users\\\\chazd\\\\OneDrive\\\\Desktop\\\\git\\\\DSS\\\\DSS-MANTIS-OBC-AI\\\\Images\\\\tree-phen\\\\trees_feb2020-Dec2021_10m\\\\2020-04-23.tiff',\n",
       " 'C:\\\\Users\\\\chazd\\\\OneDrive\\\\Desktop\\\\git\\\\DSS\\\\DSS-MANTIS-OBC-AI\\\\Images\\\\tree-phen\\\\trees_feb2020-Dec2021_10m\\\\2020-05-06.tiff',\n",
       " 'C:\\\\Users\\\\chazd\\\\OneDrive\\\\Desktop\\\\git\\\\DSS\\\\DSS-MANTIS-OBC-AI\\\\Images\\\\tree-phen\\\\trees_feb2020-Dec2021_10m\\\\2020-05-08.tiff',\n",
       " 'C:\\\\Users\\\\chazd\\\\OneDrive\\\\Desktop\\\\git\\\\DSS\\\\DSS-MANTIS-OBC-AI\\\\Images\\\\tree-phen\\\\trees_feb2020-Dec2021_10m\\\\2020-05-11.tiff',\n",
       " 'C:\\\\Users\\\\chazd\\\\OneDrive\\\\Desktop\\\\git\\\\DSS\\\\DSS-MANTIS-OBC-AI\\\\Images\\\\tree-phen\\\\trees_feb2020-Dec2021_10m\\\\2020-05-13.tiff',\n",
       " 'C:\\\\Users\\\\chazd\\\\OneDrive\\\\Desktop\\\\git\\\\DSS\\\\DSS-MANTIS-OBC-AI\\\\Images\\\\tree-phen\\\\trees_feb2020-Dec2021_10m\\\\2020-05-21.tiff',\n",
       " 'C:\\\\Users\\\\chazd\\\\OneDrive\\\\Desktop\\\\git\\\\DSS\\\\DSS-MANTIS-OBC-AI\\\\Images\\\\tree-phen\\\\trees_feb2020-Dec2021_10m\\\\2020-05-23.tiff',\n",
       " 'C:\\\\Users\\\\chazd\\\\OneDrive\\\\Desktop\\\\git\\\\DSS\\\\DSS-MANTIS-OBC-AI\\\\Images\\\\tree-phen\\\\trees_feb2020-Dec2021_10m\\\\2020-06-15.tiff',\n",
       " 'C:\\\\Users\\\\chazd\\\\OneDrive\\\\Desktop\\\\git\\\\DSS\\\\DSS-MANTIS-OBC-AI\\\\Images\\\\tree-phen\\\\trees_feb2020-Dec2021_10m\\\\2020-06-17.tiff',\n",
       " 'C:\\\\Users\\\\chazd\\\\OneDrive\\\\Desktop\\\\git\\\\DSS\\\\DSS-MANTIS-OBC-AI\\\\Images\\\\tree-phen\\\\trees_feb2020-Dec2021_10m\\\\2020-06-20.tiff',\n",
       " 'C:\\\\Users\\\\chazd\\\\OneDrive\\\\Desktop\\\\git\\\\DSS\\\\DSS-MANTIS-OBC-AI\\\\Images\\\\tree-phen\\\\trees_feb2020-Dec2021_10m\\\\2020-07-20.tiff',\n",
       " 'C:\\\\Users\\\\chazd\\\\OneDrive\\\\Desktop\\\\git\\\\DSS\\\\DSS-MANTIS-OBC-AI\\\\Images\\\\tree-phen\\\\trees_feb2020-Dec2021_10m\\\\2020-07-25.tiff',\n",
       " 'C:\\\\Users\\\\chazd\\\\OneDrive\\\\Desktop\\\\git\\\\DSS\\\\DSS-MANTIS-OBC-AI\\\\Images\\\\tree-phen\\\\trees_feb2020-Dec2021_10m\\\\2020-08-01.tiff',\n",
       " 'C:\\\\Users\\\\chazd\\\\OneDrive\\\\Desktop\\\\git\\\\DSS\\\\DSS-MANTIS-OBC-AI\\\\Images\\\\tree-phen\\\\trees_feb2020-Dec2021_10m\\\\2020-08-06.tiff',\n",
       " 'C:\\\\Users\\\\chazd\\\\OneDrive\\\\Desktop\\\\git\\\\DSS\\\\DSS-MANTIS-OBC-AI\\\\Images\\\\tree-phen\\\\trees_feb2020-Dec2021_10m\\\\2020-08-26.tiff',\n",
       " 'C:\\\\Users\\\\chazd\\\\OneDrive\\\\Desktop\\\\git\\\\DSS\\\\DSS-MANTIS-OBC-AI\\\\Images\\\\tree-phen\\\\trees_feb2020-Dec2021_10m\\\\2020-08-31.tiff',\n",
       " 'C:\\\\Users\\\\chazd\\\\OneDrive\\\\Desktop\\\\git\\\\DSS\\\\DSS-MANTIS-OBC-AI\\\\Images\\\\tree-phen\\\\trees_feb2020-Dec2021_10m\\\\2020-09-05.tiff',\n",
       " 'C:\\\\Users\\\\chazd\\\\OneDrive\\\\Desktop\\\\git\\\\DSS\\\\DSS-MANTIS-OBC-AI\\\\Images\\\\tree-phen\\\\trees_feb2020-Dec2021_10m\\\\2020-09-08.tiff',\n",
       " 'C:\\\\Users\\\\chazd\\\\OneDrive\\\\Desktop\\\\git\\\\DSS\\\\DSS-MANTIS-OBC-AI\\\\Images\\\\tree-phen\\\\trees_feb2020-Dec2021_10m\\\\2020-09-15.tiff',\n",
       " 'C:\\\\Users\\\\chazd\\\\OneDrive\\\\Desktop\\\\git\\\\DSS\\\\DSS-MANTIS-OBC-AI\\\\Images\\\\tree-phen\\\\trees_feb2020-Dec2021_10m\\\\2020-09-20.tiff',\n",
       " 'C:\\\\Users\\\\chazd\\\\OneDrive\\\\Desktop\\\\git\\\\DSS\\\\DSS-MANTIS-OBC-AI\\\\Images\\\\tree-phen\\\\trees_feb2020-Dec2021_10m\\\\2020-09-25.tiff',\n",
       " 'C:\\\\Users\\\\chazd\\\\OneDrive\\\\Desktop\\\\git\\\\DSS\\\\DSS-MANTIS-OBC-AI\\\\Images\\\\tree-phen\\\\trees_feb2020-Dec2021_10m\\\\2020-10-10.tiff',\n",
       " 'C:\\\\Users\\\\chazd\\\\OneDrive\\\\Desktop\\\\git\\\\DSS\\\\DSS-MANTIS-OBC-AI\\\\Images\\\\tree-phen\\\\trees_feb2020-Dec2021_10m\\\\2020-10-15.tiff',\n",
       " 'C:\\\\Users\\\\chazd\\\\OneDrive\\\\Desktop\\\\git\\\\DSS\\\\DSS-MANTIS-OBC-AI\\\\Images\\\\tree-phen\\\\trees_feb2020-Dec2021_10m\\\\2020-10-18.tiff',\n",
       " 'C:\\\\Users\\\\chazd\\\\OneDrive\\\\Desktop\\\\git\\\\DSS\\\\DSS-MANTIS-OBC-AI\\\\Images\\\\tree-phen\\\\trees_feb2020-Dec2021_10m\\\\2020-11-04.tiff',\n",
       " 'C:\\\\Users\\\\chazd\\\\OneDrive\\\\Desktop\\\\git\\\\DSS\\\\DSS-MANTIS-OBC-AI\\\\Images\\\\tree-phen\\\\trees_feb2020-Dec2021_10m\\\\2020-11-22.tiff',\n",
       " 'C:\\\\Users\\\\chazd\\\\OneDrive\\\\Desktop\\\\git\\\\DSS\\\\DSS-MANTIS-OBC-AI\\\\Images\\\\tree-phen\\\\trees_feb2020-Dec2021_10m\\\\2020-12-24.tiff',\n",
       " 'C:\\\\Users\\\\chazd\\\\OneDrive\\\\Desktop\\\\git\\\\DSS\\\\DSS-MANTIS-OBC-AI\\\\Images\\\\tree-phen\\\\trees_feb2020-Dec2021_10m\\\\2020-12-27.tiff',\n",
       " 'C:\\\\Users\\\\chazd\\\\OneDrive\\\\Desktop\\\\git\\\\DSS\\\\DSS-MANTIS-OBC-AI\\\\Images\\\\tree-phen\\\\trees_feb2020-Dec2021_10m\\\\2021-01-01.tiff',\n",
       " 'C:\\\\Users\\\\chazd\\\\OneDrive\\\\Desktop\\\\git\\\\DSS\\\\DSS-MANTIS-OBC-AI\\\\Images\\\\tree-phen\\\\trees_feb2020-Dec2021_10m\\\\2021-01-11.tiff',\n",
       " 'C:\\\\Users\\\\chazd\\\\OneDrive\\\\Desktop\\\\git\\\\DSS\\\\DSS-MANTIS-OBC-AI\\\\Images\\\\tree-phen\\\\trees_feb2020-Dec2021_10m\\\\2021-02-10.tiff',\n",
       " 'C:\\\\Users\\\\chazd\\\\OneDrive\\\\Desktop\\\\git\\\\DSS\\\\DSS-MANTIS-OBC-AI\\\\Images\\\\tree-phen\\\\trees_feb2020-Dec2021_10m\\\\2021-02-15.tiff',\n",
       " 'C:\\\\Users\\\\chazd\\\\OneDrive\\\\Desktop\\\\git\\\\DSS\\\\DSS-MANTIS-OBC-AI\\\\Images\\\\tree-phen\\\\trees_feb2020-Dec2021_10m\\\\2021-03-04.tiff',\n",
       " 'C:\\\\Users\\\\chazd\\\\OneDrive\\\\Desktop\\\\git\\\\DSS\\\\DSS-MANTIS-OBC-AI\\\\Images\\\\tree-phen\\\\trees_feb2020-Dec2021_10m\\\\2021-03-07.tiff',\n",
       " 'C:\\\\Users\\\\chazd\\\\OneDrive\\\\Desktop\\\\git\\\\DSS\\\\DSS-MANTIS-OBC-AI\\\\Images\\\\tree-phen\\\\trees_feb2020-Dec2021_10m\\\\2021-03-17.tiff',\n",
       " 'C:\\\\Users\\\\chazd\\\\OneDrive\\\\Desktop\\\\git\\\\DSS\\\\DSS-MANTIS-OBC-AI\\\\Images\\\\tree-phen\\\\trees_feb2020-Dec2021_10m\\\\2021-03-22.tiff',\n",
       " 'C:\\\\Users\\\\chazd\\\\OneDrive\\\\Desktop\\\\git\\\\DSS\\\\DSS-MANTIS-OBC-AI\\\\Images\\\\tree-phen\\\\trees_feb2020-Dec2021_10m\\\\2021-04-08.tiff',\n",
       " 'C:\\\\Users\\\\chazd\\\\OneDrive\\\\Desktop\\\\git\\\\DSS\\\\DSS-MANTIS-OBC-AI\\\\Images\\\\tree-phen\\\\trees_feb2020-Dec2021_10m\\\\2021-04-11.tiff',\n",
       " 'C:\\\\Users\\\\chazd\\\\OneDrive\\\\Desktop\\\\git\\\\DSS\\\\DSS-MANTIS-OBC-AI\\\\Images\\\\tree-phen\\\\trees_feb2020-Dec2021_10m\\\\2021-04-28.tiff',\n",
       " 'C:\\\\Users\\\\chazd\\\\OneDrive\\\\Desktop\\\\git\\\\DSS\\\\DSS-MANTIS-OBC-AI\\\\Images\\\\tree-phen\\\\trees_feb2020-Dec2021_10m\\\\2021-05-13.tiff',\n",
       " 'C:\\\\Users\\\\chazd\\\\OneDrive\\\\Desktop\\\\git\\\\DSS\\\\DSS-MANTIS-OBC-AI\\\\Images\\\\tree-phen\\\\trees_feb2020-Dec2021_10m\\\\2021-05-21.tiff',\n",
       " 'C:\\\\Users\\\\chazd\\\\OneDrive\\\\Desktop\\\\git\\\\DSS\\\\DSS-MANTIS-OBC-AI\\\\Images\\\\tree-phen\\\\trees_feb2020-Dec2021_10m\\\\2021-06-02.tiff',\n",
       " 'C:\\\\Users\\\\chazd\\\\OneDrive\\\\Desktop\\\\git\\\\DSS\\\\DSS-MANTIS-OBC-AI\\\\Images\\\\tree-phen\\\\trees_feb2020-Dec2021_10m\\\\2021-06-12.tiff',\n",
       " 'C:\\\\Users\\\\chazd\\\\OneDrive\\\\Desktop\\\\git\\\\DSS\\\\DSS-MANTIS-OBC-AI\\\\Images\\\\tree-phen\\\\trees_feb2020-Dec2021_10m\\\\2021-06-17.tiff',\n",
       " 'C:\\\\Users\\\\chazd\\\\OneDrive\\\\Desktop\\\\git\\\\DSS\\\\DSS-MANTIS-OBC-AI\\\\Images\\\\tree-phen\\\\trees_feb2020-Dec2021_10m\\\\2021-06-20.tiff',\n",
       " 'C:\\\\Users\\\\chazd\\\\OneDrive\\\\Desktop\\\\git\\\\DSS\\\\DSS-MANTIS-OBC-AI\\\\Images\\\\tree-phen\\\\trees_feb2020-Dec2021_10m\\\\2021-06-30.tiff',\n",
       " 'C:\\\\Users\\\\chazd\\\\OneDrive\\\\Desktop\\\\git\\\\DSS\\\\DSS-MANTIS-OBC-AI\\\\Images\\\\tree-phen\\\\trees_feb2020-Dec2021_10m\\\\2021-08-01.tiff',\n",
       " 'C:\\\\Users\\\\chazd\\\\OneDrive\\\\Desktop\\\\git\\\\DSS\\\\DSS-MANTIS-OBC-AI\\\\Images\\\\tree-phen\\\\trees_feb2020-Dec2021_10m\\\\2021-08-16.tiff',\n",
       " 'C:\\\\Users\\\\chazd\\\\OneDrive\\\\Desktop\\\\git\\\\DSS\\\\DSS-MANTIS-OBC-AI\\\\Images\\\\tree-phen\\\\trees_feb2020-Dec2021_10m\\\\2021-08-26.tiff',\n",
       " 'C:\\\\Users\\\\chazd\\\\OneDrive\\\\Desktop\\\\git\\\\DSS\\\\DSS-MANTIS-OBC-AI\\\\Images\\\\tree-phen\\\\trees_feb2020-Dec2021_10m\\\\2021-09-13.tiff',\n",
       " 'C:\\\\Users\\\\chazd\\\\OneDrive\\\\Desktop\\\\git\\\\DSS\\\\DSS-MANTIS-OBC-AI\\\\Images\\\\tree-phen\\\\trees_feb2020-Dec2021_10m\\\\2021-09-20.tiff',\n",
       " 'C:\\\\Users\\\\chazd\\\\OneDrive\\\\Desktop\\\\git\\\\DSS\\\\DSS-MANTIS-OBC-AI\\\\Images\\\\tree-phen\\\\trees_feb2020-Dec2021_10m\\\\2021-09-30.tiff',\n",
       " 'C:\\\\Users\\\\chazd\\\\OneDrive\\\\Desktop\\\\git\\\\DSS\\\\DSS-MANTIS-OBC-AI\\\\Images\\\\tree-phen\\\\trees_feb2020-Dec2021_10m\\\\2021-10-03.tiff',\n",
       " 'C:\\\\Users\\\\chazd\\\\OneDrive\\\\Desktop\\\\git\\\\DSS\\\\DSS-MANTIS-OBC-AI\\\\Images\\\\tree-phen\\\\trees_feb2020-Dec2021_10m\\\\2021-10-08.tiff',\n",
       " 'C:\\\\Users\\\\chazd\\\\OneDrive\\\\Desktop\\\\git\\\\DSS\\\\DSS-MANTIS-OBC-AI\\\\Images\\\\tree-phen\\\\trees_feb2020-Dec2021_10m\\\\2021-10-13.tiff',\n",
       " 'C:\\\\Users\\\\chazd\\\\OneDrive\\\\Desktop\\\\git\\\\DSS\\\\DSS-MANTIS-OBC-AI\\\\Images\\\\tree-phen\\\\trees_feb2020-Dec2021_10m\\\\2021-11-07.tiff',\n",
       " 'C:\\\\Users\\\\chazd\\\\OneDrive\\\\Desktop\\\\git\\\\DSS\\\\DSS-MANTIS-OBC-AI\\\\Images\\\\tree-phen\\\\trees_feb2020-Dec2021_10m\\\\2021-11-09.tiff',\n",
       " 'C:\\\\Users\\\\chazd\\\\OneDrive\\\\Desktop\\\\git\\\\DSS\\\\DSS-MANTIS-OBC-AI\\\\Images\\\\tree-phen\\\\trees_feb2020-Dec2021_10m\\\\2021-12-07.tiff',\n",
       " 'C:\\\\Users\\\\chazd\\\\OneDrive\\\\Desktop\\\\git\\\\DSS\\\\DSS-MANTIS-OBC-AI\\\\Images\\\\tree-phen\\\\trees_feb2020-Dec2021_10m\\\\2021-12-17.tiff',\n",
       " 'C:\\\\Users\\\\chazd\\\\OneDrive\\\\Desktop\\\\git\\\\DSS\\\\DSS-MANTIS-OBC-AI\\\\Images\\\\tree-phen\\\\trees_feb2020-Dec2021_10m\\\\2021-12-24.tiff']"
      ]
     },
     "execution_count": 45,
     "metadata": {},
     "output_type": "execute_result"
    }
   ],
   "source": [
    "# copy the path\n",
    "tiff_files = ip.loadDataSet(path)\n",
    "file_path = [\"\" for x in range(len(tiff_files))]\n",
    "\n",
    "# concactinate the folder path to the file name\n",
    "for i in range(len(tiff_files)):\n",
    "    file_path[i] = os.path.join(path, tiff_files[i])\n",
    "\n",
    "\n",
    "file_path"
   ]
  },
  {
   "cell_type": "code",
   "execution_count": 58,
   "metadata": {},
   "outputs": [],
   "source": [
    "#extract dates\n",
    "dates = [\"\" for x in range(len(file_path))]\n",
    "for i, file in enumerate(file_path):\n",
    "    dates[i] = file[len(file)-15:len(file)-5]\n",
    "\n"
   ]
  },
  {
   "cell_type": "code",
   "execution_count": 36,
   "metadata": {},
   "outputs": [
    {
     "name": "stderr",
     "output_type": "stream",
     "text": [
      "c:\\Users\\chazd\\AppData\\Local\\Programs\\Python\\Python39\\lib\\site-packages\\rasterio\\__init__.py:331: NotGeoreferencedWarning: Dataset has no geotransform, gcps, or rpcs. The identity matrix will be returned.\n",
      "  dataset = DatasetReader(path, driver=driver, sharing=sharing, **kwargs)\n"
     ]
    }
   ],
   "source": [
    "raster_imgs = np.empty(len(file_path)) \n",
    "\n",
    "#open each file\n",
    "img = rasterio.open(file_path[1])\n",
    "\n",
    "    \n"
   ]
  },
  {
   "cell_type": "code",
   "execution_count": 40,
   "metadata": {},
   "outputs": [],
   "source": [
    "# Open images and move them to a numpy array\n",
    "batch = len(file_path)\n",
    "# set dimension of 3d-array to image height, width and number of bands\n",
    "# ---- maybe add a dimension for labels\n",
    "\n",
    "imgsArray = np.zeros((batch, image_height, image_width, bands))\n",
    "\n",
    "for i in range(batch):\n",
    "    #open raster image\n",
    "    img = rasterio.open(file_path[i])\n",
    "\n",
    "    for j in range(bands):\n",
    "        imgsArray[i,:,:,j] = img.read(j+1)\n",
    "\n",
    "    "
   ]
  },
  {
   "cell_type": "markdown",
   "metadata": {},
   "source": [
    "## Preprocessing"
   ]
  },
  {
   "cell_type": "code",
   "execution_count": null,
   "metadata": {},
   "outputs": [],
   "source": [
    "# normalize all values\n"
   ]
  }
 ],
 "metadata": {
  "kernelspec": {
   "display_name": "Python 3",
   "language": "python",
   "name": "python3"
  },
  "language_info": {
   "codemirror_mode": {
    "name": "ipython",
    "version": 3
   },
   "file_extension": ".py",
   "mimetype": "text/x-python",
   "name": "python",
   "nbconvert_exporter": "python",
   "pygments_lexer": "ipython3",
   "version": "3.9.7"
  }
 },
 "nbformat": 4,
 "nbformat_minor": 2
}
